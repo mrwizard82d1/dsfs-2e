{
 "cells": [
  {
   "cell_type": "markdown",
   "source": [
    "# Chapter 03 - Visualizing Data"
   ],
   "metadata": {
    "collapsed": false
   }
  },
  {
   "cell_type": "markdown",
   "source": [
    "## The `matplotlib` Package"
   ],
   "metadata": {
    "collapsed": false
   }
  },
  {
   "cell_type": "code",
   "execution_count": null,
   "outputs": [],
   "source": [
    "# One typically uses the Python plotting package\n",
    "import matplotlib.pyplot as plt"
   ],
   "metadata": {
    "collapsed": false
   }
  },
  {
   "cell_type": "code",
   "execution_count": null,
   "outputs": [],
   "source": [
    "# The `pyplot` package, in its simplest use, maintains an internal state\n",
    "# that allows a developer to build up a visualization step by step.\n",
    "#\n",
    "# When finished, one can save the figure by calling `savefig()` or display\n",
    "# it by calling `show()`\n",
    "years = range(1950, 2011, 10)  # From 1950 through 2010 by 10 years\n",
    "gdp = [300.2, 543.3, 1075.9, 2862.5, 5957.6, 10289.7, 14958.3]"
   ],
   "metadata": {
    "collapsed": false
   }
  },
  {
   "cell_type": "code",
   "execution_count": null,
   "outputs": [],
   "source": [
    "# Create a line chart with years on the x-axis and GDP on the y-axis\n",
    "# In the REPL, `plot()` does not actually plot the figure but prepares the\n",
    "# state as if it was plotted. However, in a Jupyter notebook, a call to\n",
    "# `plot` plots the figure in the output cell immediately. (One may be able\n",
    "# to change this behavior by changing a setting.)\n",
    "\n",
    "# Plot a green, solid line with circles at each data point\n",
    "plt.plot(years, gdp, color='green', marker='o', linestyle='solid')\n",
    "\n",
    "# Add a title\n",
    "plt.title('Nominal GDP')\n",
    "\n",
    "# Add a label to the y-axis\n",
    "plt.ylabel('Billions of $')\n",
    "\n",
    "# And now we show the figure\n",
    "plt.show()"
   ],
   "metadata": {
    "collapsed": false
   }
  },
  {
   "cell_type": "code",
   "execution_count": null,
   "outputs": [],
   "source": [],
   "metadata": {
    "collapsed": false
   }
  }
 ],
 "metadata": {
  "kernelspec": {
   "display_name": "Python 3",
   "language": "python",
   "name": "python3"
  },
  "language_info": {
   "codemirror_mode": {
    "name": "ipython",
    "version": 2
   },
   "file_extension": ".py",
   "mimetype": "text/x-python",
   "name": "python",
   "nbconvert_exporter": "python",
   "pygments_lexer": "ipython2",
   "version": "2.7.6"
  }
 },
 "nbformat": 4,
 "nbformat_minor": 0
}
