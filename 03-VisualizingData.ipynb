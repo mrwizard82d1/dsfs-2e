{
 "cells": [
  {
   "cell_type": "markdown",
   "source": [
    "# Chapter 03 - Visualizing Data"
   ],
   "metadata": {
    "collapsed": false
   }
  },
  {
   "cell_type": "markdown",
   "source": [
    "## The `matplotlib` Package"
   ],
   "metadata": {
    "collapsed": false
   }
  },
  {
   "cell_type": "code",
   "execution_count": null,
   "outputs": [],
   "source": [
    "# One typically uses the Python plotting package\n",
    "import matplotlib.pyplot as plt"
   ],
   "metadata": {
    "collapsed": false
   }
  },
  {
   "cell_type": "code",
   "execution_count": null,
   "outputs": [],
   "source": [
    "# The `pyplot` package, in its simplest use, maintains an internal state\n",
    "# that allows a developer to build up a visualization step by step.\n",
    "#\n",
    "# When finished, one can save the figure by calling `savefig()` or display\n",
    "# it by calling `show()`\n",
    "years = range(1950, 2011, 10)  # From 1950 through 2010 by 10 years\n",
    "gdp = [300.2, 543.3, 1075.9, 2862.5, 5957.6, 10289.7, 14958.3]"
   ],
   "metadata": {
    "collapsed": false
   }
  },
  {
   "cell_type": "code",
   "execution_count": null,
   "outputs": [],
   "source": [
    "# Create a line chart with years on the x-axis and GDP on the y-axis\n",
    "# In the REPL, `plot()` does not actually plot the figure but prepares the\n",
    "# state as if it was plotted. However, in a Jupyter notebook, a call to\n",
    "# `plot` plots the figure in the output cell immediately. (One may be able\n",
    "# to change this behavior by changing a setting.)\n",
    "\n",
    "# Plot a green, solid line with circles at each data point\n",
    "plt.plot(years, gdp, color='green', marker='o', linestyle='solid')\n",
    "\n",
    "# Add a title\n",
    "plt.title('Nominal GDP')\n",
    "\n",
    "# Add a label to the y-axis\n",
    "plt.ylabel('Billions of $')\n",
    "\n",
    "# And now we show the figure\n",
    "plt.show()"
   ],
   "metadata": {
    "collapsed": false
   }
  },
  {
   "cell_type": "markdown",
   "source": [
    "## Bar Charts"
   ],
   "metadata": {
    "collapsed": false
   }
  },
  {
   "cell_type": "markdown",
   "source": [
    "A bar chart is a good choice when you want to show how some quantity varies among a **discrete** set of items."
   ],
   "metadata": {
    "collapsed": false
   }
  },
  {
   "cell_type": "code",
   "execution_count": null,
   "outputs": [],
   "source": [
    "# Oscars for different movies\n",
    "movies = ['Annie Hall', 'Ben-Hur', 'Casablanca', 'Gandhi', 'West Side Story']\n",
    "oscars_count = [5, 11, 3, 8, 10]"
   ],
   "metadata": {
    "collapsed": false
   }
  },
  {
   "cell_type": "code",
   "execution_count": null,
   "outputs": [],
   "source": [
    "# Plot Oscars for different movies\n",
    "\n",
    "# Plot bars with left-hand x-coordinate, [0, 1, 2, 3, 4] and\n",
    "# heights, [oscars_count]\n",
    "plt.bar(range(len(movies)), oscars_count)\n",
    "\n",
    "plt.title('My Favorite Movies')  # add a title\n",
    "plt.ylabel('# of Academy Awards')  # label the y-axis\n",
    "\n",
    "# Label the x-axis with movie names at center of each bar\n",
    "plt.xticks(range(len(movies)), movies)\n",
    "\n",
    "# Finally, plot the figure\n",
    "plt.show()"
   ],
   "metadata": {
    "collapsed": false
   }
  },
  {
   "cell_type": "markdown",
   "source": [
    "A bar chart can also be a good choice for plotting histograms of bucketed numeric values"
   ],
   "metadata": {
    "collapsed": false
   }
  },
  {
   "cell_type": "code",
   "execution_count": null,
   "outputs": [],
   "source": [
    "from collections import Counter"
   ],
   "metadata": {
    "collapsed": false
   }
  },
  {
   "cell_type": "code",
   "execution_count": null,
   "outputs": [],
   "source": [
    "# A sequence of grades for a class\n",
    "grades = [83, 95, 91, 87, 70, 0, 85, 82, 100, 67, 73, 77, 0]"
   ],
   "metadata": {
    "collapsed": false
   }
  },
  {
   "cell_type": "code",
   "execution_count": null,
   "outputs": [],
   "source": [
    "# Bucket grades by decile, but put scores of 100 in the 90's bucket\n",
    "# Remember that the `//` operator is **integer** division\n",
    "histogram = Counter(min(grade // 10 * 10, 90) for grade in grades)\n",
    "\n",
    "plt.bar(\n",
    "    # Center a 10-unit bar by shifting center of bars from the lower bound\n",
    "    # of the decile to the middle. For example, the decile [10, 20) is\n",
    "    # centered at 15 and occupies all the \"space\" from 10 to 20.\n",
    "    [x + 5 for x in histogram.keys()],  # shift bars right by 5\n",
    "    histogram.values(),  # give each bar the correct height\n",
    "    10,  # each bar has a width of 10 which completely fills the decile\n",
    "    edgecolor=(0, 0, 0)  # Each bar has black edges\n",
    ")\n",
    "\n",
    "# Plot x-axis from -5 to 105 and y-axis from 0 to 5\n",
    "# Plotting the x-axis range from a value less than the minimum to a value\n",
    "# greater than the maximum puts space around the plot horizontally.\n",
    "# Similarly, plotting the y-axis range to a value greater than the maximum\n",
    "# puts space at the top of the plot.\n",
    "plt.axis([-5, 105, 0, 5])\n",
    "\n",
    "plt.xticks([10 * i for i in range(11)])  # x-axis labels at 0, 10, 20, ..., 100\n",
    "plt.xlabel('Decile')\n",
    "plt.ylabel('# of Students')\n",
    "plt.title('Distribution of Exam 1 Grades')\n",
    "plt.show()"
   ],
   "metadata": {
    "collapsed": false
   }
  },
  {
   "cell_type": "markdown",
   "source": [
    "Be careful in your choice of boundaries supplied to `axis`. In particular, it is considered especially bad form for your y-axis **not** to start at 0, since this choice can mislead people."
   ],
   "metadata": {
    "collapsed": false
   }
  },
  {
   "cell_type": "code",
   "execution_count": null,
   "outputs": [],
   "source": [
    "# Mentions per years\n",
    "mentions = [500, 505]\n",
    "years = [2017, 2018]"
   ],
   "metadata": {
    "collapsed": false
   }
  },
  {
   "cell_type": "code",
   "execution_count": null,
   "outputs": [],
   "source": [
    "plt.bar(years, mentions, 0.8)\n",
    "plt.xticks(years)\n",
    "plt.ylabel('# of times I heard someone say \"data science\"')\n",
    "\n",
    "# Misleading y-axis only show the part above 500\n",
    "plt.axis([2016.5, 2018.5, 499, 506])\n",
    "plt.title('Look at the \"Huge\" increase!')\n",
    "plt.show()"
   ],
   "metadata": {
    "collapsed": false
   }
  },
  {
   "cell_type": "markdown",
   "source": [
    "Using more sensible axes and the difference looks far, far less impressive."
   ],
   "metadata": {
    "collapsed": false
   }
  },
  {
   "cell_type": "code",
   "execution_count": null,
   "outputs": [],
   "source": [
    "plt.bar(years, mentions, 0.8)\n",
    "plt.xticks(years)\n",
    "plt.ylabel('# of times I heard someone say \"data science\"')\n",
    "\n",
    "plt.axis([2016.5, 2018.5, 0, 550])\n",
    "plt.title('Not so impressive anymore')\n",
    "plt.show()"
   ],
   "metadata": {
    "collapsed": false
   }
  },
  {
   "cell_type": "markdown",
   "source": [
    "## Line Charts"
   ],
   "metadata": {
    "collapsed": false
   }
  },
  {
   "cell_type": "markdown",
   "source": [
    "Line charts are a good choice for showing trends."
   ],
   "metadata": {
    "collapsed": false
   }
  },
  {
   "cell_type": "code",
   "execution_count": null,
   "outputs": [],
   "source": [
    "# Variance, bias, and total error\n",
    "variance = [1, 2, 4, 8, 16, 32, 64, 128, 256]\n",
    "bias_squared = [256, 128, 64, 32, 16, 8, 4, 2, 1]\n",
    "total_error = [x + y for x, y in zip(variance, bias_squared)]\n",
    "xs = [i for i, _ in enumerate(variance)]"
   ],
   "metadata": {
    "collapsed": false
   }
  },
  {
   "cell_type": "code",
   "execution_count": null,
   "outputs": [],
   "source": [
    "# We make multiple calls to `plt.plot` to show multiple curves on the\n",
    "# same figure\n",
    "plt.plot(xs, variance, 'g-', label='variance')  # green, solid line\n",
    "plt.plot(xs, bias_squared, 'r-.', label='bias^2')  # red, dot-dashed line\n",
    "plt.plot(xs, total_error, 'b:', label='total error')  # blue dotted line\n",
    "\n",
    "# Because we've assigned labels to each curve, we can get a legend\n",
    "# for \"free\" (loc=9 means \"top center\")\n",
    "plt.legend(loc=9)\n",
    "plt.xlabel('model complexity')\n",
    "plt.xticks([])\n",
    "plt.title('The Bias-Variance Tradeoff')\n",
    "\n",
    "plt.show()"
   ],
   "metadata": {
    "collapsed": false
   }
  },
  {
   "cell_type": "markdown",
   "source": [
    "## Scatterplots"
   ],
   "metadata": {
    "collapsed": false
   }
  },
  {
   "cell_type": "markdown",
   "source": [
    "A scatter plot is the right choice for visualizing the relationship between two paired sets of data."
   ],
   "metadata": {
    "collapsed": false
   }
  },
  {
   "cell_type": "code",
   "execution_count": null,
   "outputs": [],
   "source": [
    "# The relationship between friend and minutes spent on a social media site\n",
    "# every day\n",
    "friends = [70, 65, 72, 63, 71, 64, 60, 64, 67]\n",
    "minutes = [175, 170, 205, 120, 120, 130, 105, 145, 190]\n",
    "labels = ['a', 'b', 'c', 'd', 'e', 'f', 'g', 'h', 'i']"
   ],
   "metadata": {
    "collapsed": false
   }
  },
  {
   "cell_type": "code",
   "execution_count": null,
   "outputs": [],
   "source": [
    "plt.scatter(friends, minutes)\n",
    "\n",
    "# Label each point\n",
    "for label, friend_count, minute_count in zip(labels, friends, minutes):\n",
    "    plt.annotate(\n",
    "        label,\n",
    "        xy=(friend_count, minute_count),  # put the label with its point\n",
    "        xytext = (5, -5),  # but slightly\n",
    "        textcoords='offset points'\n",
    "    )  # offset\n",
    "\n",
    "plt.title('Daily Minutes vs. Number of Friends')\n",
    "plt.xlabel('# of friends')\n",
    "plt.ylabel('daily minutes on the site')\n",
    "\n",
    "plt.show()"
   ],
   "metadata": {
    "collapsed": false
   }
  },
  {
   "cell_type": "markdown",
   "source": [
    "**BEWARE** If you're scattering comparable variables, you might get a misleading picture if you let `matplotlib` choose the scale"
   ],
   "metadata": {
    "collapsed": false
   }
  },
  {
   "cell_type": "code",
   "execution_count": null,
   "outputs": [],
   "source": [
    "# Scatter plot of grades on first exam against grades on second exam\n",
    "test_1_grades = [99, 90, 85, 97, 80]\n",
    "test_2_grades = [100, 85, 60, 90, 70]\n",
    "\n",
    "plt.scatter(test_1_grades, test_2_grades)\n",
    "plt.title('Axes are **not** comparable')\n",
    "plt.xlabel('test 1 grade')\n",
    "plt.ylabel('test 2 grade')\n",
    "plt.show()"
   ],
   "metadata": {
    "collapsed": false
   }
  },
  {
   "cell_type": "markdown",
   "source": [
    "I'm uncertain as to the meaning of \"comparable\" (or \"not comparable\"). Since scatter plots are intended to show relationships between pairs of values, I think \"comparable\" refers to similar ranges. This \"definition\" does not mean always equal but more like similar. For example, if the y-axis ranges from 0 to y-max, then the x-axis should also range from 0 to x-max.\n",
    "\n",
    "I think this notion of \"comparable\" is related to the concept of \"skewness.\" We are accustomed to a 1:1 relationship being a 45-degree line. Consequently, if the y-axis goes from 60 to 100 but the x-axis goes from 80 to 100, the graph is visually \"skewed\"; that is, a unit change along one axis is **not** equivalent to a unit change along the other axis.\n",
    "\n",
    "Vague, but I think heading \"in the right direction.\""
   ],
   "metadata": {
    "collapsed": false
   }
  },
  {
   "cell_type": "code",
   "execution_count": null,
   "outputs": [],
   "source": [
    "# The same data with comparable axes\n",
    "plt.scatter(test_1_grades, test_2_grades)\n",
    "plt.title('Axes are comparable')\n",
    "plt.xlabel('test 1 grade')\n",
    "plt.ylabel('test 2 grade')\n",
    "plt.axis('equal')\n",
    "plt.show()"
   ],
   "metadata": {
    "collapsed": false
   }
  },
  {
   "cell_type": "markdown",
   "source": [
    "With \"equal\" axes, one can determine that the variation of grades for the second test is much large than the variation of grades for the first test."
   ],
   "metadata": {
    "collapsed": false
   }
  },
  {
   "cell_type": "code",
   "execution_count": null,
   "outputs": [],
   "source": [],
   "metadata": {
    "collapsed": false
   }
  }
 ],
 "metadata": {
  "kernelspec": {
   "display_name": "Python 3",
   "language": "python",
   "name": "python3"
  },
  "language_info": {
   "codemirror_mode": {
    "name": "ipython",
    "version": 2
   },
   "file_extension": ".py",
   "mimetype": "text/x-python",
   "name": "python",
   "nbconvert_exporter": "python",
   "pygments_lexer": "ipython2",
   "version": "2.7.6"
  }
 },
 "nbformat": 4,
 "nbformat_minor": 0
}
