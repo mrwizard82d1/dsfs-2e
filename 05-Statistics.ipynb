{
 "cells": [
  {
   "cell_type": "markdown",
   "source": [
    "# Chapter 05 - Statistics"
   ],
   "metadata": {
    "collapsed": false
   }
  },
  {
   "cell_type": "markdown",
   "source": [
    "Code from chapter 5, \"Statistics\", of the book, _Data Science from Scratch_, 2nd edition."
   ],
   "metadata": {
    "collapsed": false
   }
  },
  {
   "cell_type": "code",
   "execution_count": null,
   "outputs": [],
   "source": [
    "from collections import Counter"
   ],
   "metadata": {
    "collapsed": false
   }
  },
  {
   "cell_type": "code",
   "execution_count": null,
   "outputs": [],
   "source": [
    "import matplotlib.pyplot as plt"
   ],
   "metadata": {
    "collapsed": false
   }
  },
  {
   "cell_type": "code",
   "execution_count": null,
   "outputs": [],
   "source": [
    "import dsfs as scratch"
   ],
   "metadata": {
    "collapsed": false
   }
  },
  {
   "cell_type": "markdown",
   "source": [
    "## Describing a single set of data"
   ],
   "metadata": {
    "collapsed": false
   }
  },
  {
   "cell_type": "markdown",
   "source": [
    "The VP of Fundraising asks you for some sort of description of how many friends members of the DataSciencester community have."
   ],
   "metadata": {
    "collapsed": false
   }
  },
  {
   "cell_type": "markdown",
   "source": [
    "An obvious description is the data itself."
   ],
   "metadata": {
    "collapsed": false
   }
  },
  {
   "cell_type": "code",
   "execution_count": null,
   "outputs": [],
   "source": [
    "num_friends = [100,49,41,40,25,21,21,19,19,18,18,16,15,15,15,15,14,14,13,13,13,13,12,12,11,10,10,10,10,10,10,10,10,10,10,10,10,10,10,10,9,9,9,9,9,9,9,9,9,9,9,9,9,9,9,9,9,9,8,8,8,8,8,8,8,8,8,8,8,8,8,7,7,7,7,7,7,7,7,7,7,7,7,7,7,7,6,6,6,6,6,6,6,6,6,6,6,6,6,6,6,6,6,6,6,6,6,6,5,5,5,5,5,5,5,5,5,5,5,5,5,5,5,5,5,4,4,4,4,4,4,4,4,4,4,4,4,4,4,4,4,4,4,4,4,3,3,3,3,3,3,3,3,3,3,3,3,3,3,3,3,3,3,3,3,2,2,2,2,2,2,2,2,2,2,2,2,2,2,2,2,2,1,1,1,1,1,1,1,1,1,1,1,1,1,1,1,1,1,1,1,1,1,1]"
   ],
   "metadata": {
    "collapsed": false
   }
  },
  {
   "cell_type": "markdown",
   "source": [
    "Not very friendly. How 'bout a picture?"
   ],
   "metadata": {
    "collapsed": false
   }
  },
  {
   "cell_type": "code",
   "execution_count": null,
   "outputs": [],
   "source": [
    "# Create a \"histogram\" of the number of friends for each user\n",
    "friend_counts = Counter(num_friends)"
   ],
   "metadata": {
    "collapsed": false
   }
  },
  {
   "cell_type": "code",
   "execution_count": null,
   "outputs": [],
   "source": [
    "# Calculate data ranges for x- and y-axes.\n",
    "min(num_friends), max(num_friends)"
   ],
   "metadata": {
    "collapsed": false
   }
  },
  {
   "cell_type": "code",
   "execution_count": null,
   "outputs": [],
   "source": [
    "min(friend_counts.values()), max(friend_counts.values())"
   ],
   "metadata": {
    "collapsed": false
   }
  },
  {
   "cell_type": "code",
   "execution_count": null,
   "outputs": [],
   "source": [
    "# Plot the histogram as a bar chart\n",
    "xs = range(max(num_friends) + 1)  # add one for \"whitespace\"\n",
    "ys = [friend_counts[i] for i in xs]  # for each count, extract the number of people who have that many friends\n",
    "plt.bar(xs, ys)\n",
    "# The values on the x- and y-axes of the chart. The range of the x-axis is\n",
    "# the minimum, 0, to the maximum, 101, number of friends for a person.\n",
    "# The y-axis range is determined empirically based on a \"nice\" value\n",
    "# above the maximum of the number of people who have a specific number\n",
    "# of friends (the maximum is 21; the \"nice\" number is 25).\n",
    "plt.axis([0, max(num_friends) + 1, 0, 25])\n",
    "plt.title('Histogram of Friend Counts')\n",
    "plt.xlabel('# of friends')\n",
    "plt.ylabel('# of people with that number of friends')\n",
    "plt.show()"
   ],
   "metadata": {
    "collapsed": false
   }
  },
  {
   "cell_type": "markdown",
   "source": [
    "Unfortunately, this chart is too difficult to slip into conversions. Let's try some statistics."
   ],
   "metadata": {
    "collapsed": false
   }
  },
  {
   "cell_type": "code",
   "execution_count": null,
   "outputs": [],
   "source": [
    "# The simplest statistic (a summary of data) is the number of data points.\n",
    "len(num_friends)"
   ],
   "metadata": {
    "collapsed": false
   }
  },
  {
   "cell_type": "code",
   "execution_count": null,
   "outputs": [],
   "source": [
    "# The largest and smallest values are also interesting.\n",
    "smallest_value = min(num_friends)\n",
    "largest_value = max(num_friends)"
   ],
   "metadata": {
    "collapsed": false
   }
  },
  {
   "cell_type": "code",
   "execution_count": null,
   "outputs": [],
   "source": [
    "smallest_value, largest_value"
   ],
   "metadata": {
    "collapsed": false
   }
  },
  {
   "cell_type": "markdown",
   "source": [
    "The minimum and maximum values are actually special cases of wanting to know the values in specific positions."
   ],
   "metadata": {
    "collapsed": false
   }
  },
  {
   "cell_type": "code",
   "execution_count": null,
   "outputs": [],
   "source": [
    "# Let's calculate some others\n",
    "sorted_values = sorted(num_friends)\n",
    "smallest_value = sorted_values[0]\n",
    "second_smallest_value = sorted_values[1]\n",
    "next_to_largest_value = sorted_values[-2]\n",
    "largest_value = sorted_values[-1]"
   ],
   "metadata": {
    "collapsed": false
   }
  },
  {
   "cell_type": "code",
   "execution_count": null,
   "outputs": [],
   "source": [
    "smallest_value, second_smallest_value, next_to_largest_value, largest_value"
   ],
   "metadata": {
    "collapsed": false
   }
  },
  {
   "cell_type": "markdown",
   "source": [
    "### Central Tendencies\n",
    "\n",
    "A typical question / statistic is \"Where is our data centered?\" Most commonly, we use _mean_."
   ],
   "metadata": {
    "collapsed": false
   }
  },
  {
   "cell_type": "code",
   "execution_count": null,
   "outputs": [],
   "source": [
    "scratch.statistics.mean(num_friends)"
   ],
   "metadata": {
    "collapsed": false
   }
  },
  {
   "cell_type": "markdown",
   "source": [
    "Another measure of central tendency is the _median_. However, whereas the mean is affected by **all** values, the median only depends on\n",
    "\n",
    "- The central value if the number of items in the data is odd\n",
    "- The two central values if the number of items in the data is even"
   ],
   "metadata": {
    "collapsed": false
   }
  },
  {
   "cell_type": "code",
   "execution_count": null,
   "outputs": [],
   "source": [
    "scratch.statistics.median([1, 10, 2, 9, 5])  ## == 5"
   ],
   "metadata": {
    "collapsed": false
   }
  },
  {
   "cell_type": "code",
   "execution_count": null,
   "outputs": [],
   "source": [
    "scratch.statistics.median([9, 1, 10, 2]) ## == 5.5"
   ],
   "metadata": {
    "collapsed": false
   }
  },
  {
   "cell_type": "code",
   "execution_count": null,
   "outputs": [],
   "source": [
    "scratch.statistics.median(num_friends)  ## == 6"
   ],
   "metadata": {
    "collapsed": false
   }
  },
  {
   "cell_type": "markdown",
   "source": [
    "The mean is easier to compute. It varies smoothly as our data changes. The median requires sorting our data.\n",
    "\n",
    "A change to any number of points of our data by a small amount, _delta_, might affect the median by _delta_, by some small amount other than _delta_, or it may change it not at all. On the other hand, the mean is very sensitive to outliers."
   ],
   "metadata": {
    "collapsed": false
   }
  },
  {
   "cell_type": "code",
   "execution_count": null,
   "outputs": [],
   "source": [],
   "metadata": {
    "collapsed": false
   }
  }
 ],
 "metadata": {
  "kernelspec": {
   "display_name": "Python 3",
   "language": "python",
   "name": "python3"
  },
  "language_info": {
   "codemirror_mode": {
    "name": "ipython",
    "version": 2
   },
   "file_extension": ".py",
   "mimetype": "text/x-python",
   "name": "python",
   "nbconvert_exporter": "python",
   "pygments_lexer": "ipython2",
   "version": "2.7.6"
  }
 },
 "nbformat": 4,
 "nbformat_minor": 0
}
