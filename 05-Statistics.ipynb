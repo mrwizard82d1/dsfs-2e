{
 "cells": [
  {
   "cell_type": "markdown",
   "source": [
    "# Chapter 05 - Statistics"
   ],
   "metadata": {
    "collapsed": false
   }
  },
  {
   "cell_type": "markdown",
   "source": [
    "Code from chapter 5, \"Statistics\", of the book, _Data Science from Scratch_, 2nd edition."
   ],
   "metadata": {
    "collapsed": false
   }
  },
  {
   "cell_type": "code",
   "execution_count": null,
   "outputs": [],
   "source": [
    "from collections import Counter"
   ],
   "metadata": {
    "collapsed": false
   }
  },
  {
   "cell_type": "code",
   "execution_count": null,
   "outputs": [],
   "source": [
    "import matplotlib.pyplot as plt"
   ],
   "metadata": {
    "collapsed": false
   }
  },
  {
   "cell_type": "code",
   "execution_count": null,
   "outputs": [],
   "source": [
    "import dsfs as scratch"
   ],
   "metadata": {
    "collapsed": false
   }
  },
  {
   "cell_type": "markdown",
   "source": [
    "## Describing a single set of data"
   ],
   "metadata": {
    "collapsed": false
   }
  },
  {
   "cell_type": "markdown",
   "source": [
    "The VP of Fundraising asks you for some sort of description of how many friends members of the DataSciencester community have."
   ],
   "metadata": {
    "collapsed": false
   }
  },
  {
   "cell_type": "markdown",
   "source": [
    "An obvious description is the data itself."
   ],
   "metadata": {
    "collapsed": false
   }
  },
  {
   "cell_type": "code",
   "execution_count": null,
   "outputs": [],
   "source": [
    "num_friends = [100,49,41,40,25,21,21,19,19,18,18,16,15,15,15,15,14,14,13,13,\n",
    "               13,13,12,12,11,10,10,10,10,10,10,10,10,10,10,10,10,10,10,10,\n",
    "               9,9,9,9,9,9,9,9,9,9,9,9,9,9,9,9,9,9,8,8,8,8,8,8,8,8,8,8,8,8,\n",
    "               8,7,7,7,7,7,7,7,7,7,7,7,7,7,7,7,6,6,6,6,6,6,6,6,6,6,6,6,6,6,\n",
    "               6,6,6,6,6,6,6,6,5,5,5,5,5,5,5,5,5,5,5,5,5,5,5,5,5,4,4,4,4,4,\n",
    "               4,4,4,4,4,4,4,4,4,4,4,4,4,4,4,3,3,3,3,3,3,3,3,3,3,3,3,3,3,3,\n",
    "               3,3,3,3,3,2,2,2,2,2,2,2,2,2,2,2,2,2,2,2,2,2,1,1,1,1,1,1,1,1,\n",
    "               1,1,1,1,1,1,1,1,1,1,1,1,1,1]"
   ],
   "metadata": {
    "collapsed": false
   }
  },
  {
   "cell_type": "markdown",
   "source": [
    "Not very friendly. How 'bout a picture?"
   ],
   "metadata": {
    "collapsed": false
   }
  },
  {
   "cell_type": "code",
   "execution_count": null,
   "outputs": [],
   "source": [
    "# Create a \"histogram\" of the number of friends for each user\n",
    "friend_counts = Counter(num_friends)"
   ],
   "metadata": {
    "collapsed": false
   }
  },
  {
   "cell_type": "code",
   "execution_count": null,
   "outputs": [],
   "source": [
    "# Calculate data ranges for x- and y-axes.\n",
    "min(num_friends), max(num_friends)"
   ],
   "metadata": {
    "collapsed": false
   }
  },
  {
   "cell_type": "code",
   "execution_count": null,
   "outputs": [],
   "source": [
    "min(friend_counts.values()), max(friend_counts.values())"
   ],
   "metadata": {
    "collapsed": false
   }
  },
  {
   "cell_type": "code",
   "execution_count": null,
   "outputs": [],
   "source": [
    "# Plot the histogram as a bar chart\n",
    "xs = range(max(num_friends) + 1)  # add one for \"whitespace\"\n",
    "ys = [friend_counts[i] for i in xs]  # for each count, extract the number of people who have that many friends\n",
    "plt.bar(xs, ys)\n",
    "# The values on the x- and y-axes of the chart. The range of the x-axis is\n",
    "# the minimum, 0, to the maximum, 101, number of friends for a person.\n",
    "# The y-axis range is determined empirically based on a \"nice\" value\n",
    "# above the maximum of the number of people who have a specific number\n",
    "# of friends (the maximum is 21; the \"nice\" number is 25).\n",
    "plt.axis([0, max(num_friends) + 1, 0, 25])\n",
    "plt.title('Histogram of Friend Counts')\n",
    "plt.xlabel('# of friends')\n",
    "plt.ylabel('# of people with that number of friends')\n",
    "plt.show()"
   ],
   "metadata": {
    "collapsed": false
   }
  },
  {
   "cell_type": "markdown",
   "source": [
    "Unfortunately, this chart is too difficult to slip into conversions. Let's try some statistics."
   ],
   "metadata": {
    "collapsed": false
   }
  },
  {
   "cell_type": "code",
   "execution_count": null,
   "outputs": [],
   "source": [
    "# The simplest statistic (a summary of data) is the number of data points.\n",
    "len(num_friends)"
   ],
   "metadata": {
    "collapsed": false
   }
  },
  {
   "cell_type": "code",
   "execution_count": null,
   "outputs": [],
   "source": [
    "# The largest and smallest values are also interesting.\n",
    "smallest_value = min(num_friends)\n",
    "largest_value = max(num_friends)"
   ],
   "metadata": {
    "collapsed": false
   }
  },
  {
   "cell_type": "code",
   "execution_count": null,
   "outputs": [],
   "source": [
    "smallest_value, largest_value"
   ],
   "metadata": {
    "collapsed": false
   }
  },
  {
   "cell_type": "markdown",
   "source": [
    "The minimum and maximum values are actually special cases of wanting to know the values in specific positions."
   ],
   "metadata": {
    "collapsed": false
   }
  },
  {
   "cell_type": "code",
   "execution_count": null,
   "outputs": [],
   "source": [
    "# Let's calculate some others\n",
    "sorted_values = sorted(num_friends)\n",
    "smallest_value = sorted_values[0]\n",
    "second_smallest_value = sorted_values[1]\n",
    "next_to_largest_value = sorted_values[-2]\n",
    "largest_value = sorted_values[-1]"
   ],
   "metadata": {
    "collapsed": false
   }
  },
  {
   "cell_type": "code",
   "execution_count": null,
   "outputs": [],
   "source": [
    "smallest_value, second_smallest_value, next_to_largest_value, largest_value"
   ],
   "metadata": {
    "collapsed": false
   }
  },
  {
   "cell_type": "markdown",
   "source": [
    "### Central Tendencies\n",
    "\n",
    "A typical question / statistic is \"Where is our data centered?\" Most commonly, we use _mean_."
   ],
   "metadata": {
    "collapsed": false
   }
  },
  {
   "cell_type": "code",
   "execution_count": null,
   "outputs": [],
   "source": [
    "scratch.statistics.mean(num_friends)"
   ],
   "metadata": {
    "collapsed": false
   }
  },
  {
   "cell_type": "markdown",
   "source": [
    "Another measure of central tendency is the _median_. However, whereas the mean is affected by **all** values, the median only depends on\n",
    "\n",
    "- The central value if the number of items in the data is odd\n",
    "- The two central values if the number of items in the data is even"
   ],
   "metadata": {
    "collapsed": false
   }
  },
  {
   "cell_type": "code",
   "execution_count": null,
   "outputs": [],
   "source": [
    "scratch.statistics.median([1, 10, 2, 9, 5])  ## == 5"
   ],
   "metadata": {
    "collapsed": false
   }
  },
  {
   "cell_type": "code",
   "execution_count": null,
   "outputs": [],
   "source": [
    "scratch.statistics.median([9, 1, 10, 2]) ## == 5.5"
   ],
   "metadata": {
    "collapsed": false
   }
  },
  {
   "cell_type": "code",
   "execution_count": null,
   "outputs": [],
   "source": [
    "scratch.statistics.median(num_friends)  ## == 6"
   ],
   "metadata": {
    "collapsed": false
   }
  },
  {
   "cell_type": "markdown",
   "source": [
    "The mean is easier to compute. It varies smoothly as our data changes. The median requires sorting our data.\n",
    "\n",
    "A change to any number of points of our data by a small amount, _delta_, might affect the median by _delta_, by some small amount other than _delta_, or it may change it not at all. On the other hand, the mean is very sensitive to outliers."
   ],
   "metadata": {
    "collapsed": false
   }
  },
  {
   "cell_type": "markdown",
   "source": [
    "A generalization of the median is the _quantile_. The _quantile_ represents a value under which a certain percentage of the data lie. For example, the median represents the value under which 50% of the data lies."
   ],
   "metadata": {
    "collapsed": false
   }
  },
  {
   "cell_type": "code",
   "execution_count": null,
   "outputs": [],
   "source": [
    "ps = [0.1, 0.25, 0.5, 0.75, 0.9]\n",
    "#    [1,   3,    6,   9,    13]\n",
    "for p in ps:\n",
    "    print(scratch.statistics.quantile(num_friends, p))"
   ],
   "metadata": {
    "collapsed": false
   }
  },
  {
   "cell_type": "code",
   "execution_count": null,
   "outputs": [],
   "source": [
    "scratch.statistics.mode(num_friends)  # {1, 6}"
   ],
   "metadata": {
    "collapsed": false
   }
  },
  {
   "cell_type": "markdown",
   "source": [
    "Despite all these options, one most frequently uses the mean to measure the central tendency."
   ],
   "metadata": {
    "collapsed": false
   }
  },
  {
   "cell_type": "markdown",
   "source": [
    "### Dispersion"
   ],
   "metadata": {
    "collapsed": false
   }
  },
  {
   "cell_type": "markdown",
   "source": [
    "_Dispersion_ is a general measure of the spread of the data. Typically, statistics measuring dispersion use a value near zero (0) to signify that data is _not spread out at all_ and use \"large\" values to indicate _very spread out data_.\n",
    "\n",
    "A very simple measure is the _range_; that is the difference between maximum and minimum values."
   ],
   "metadata": {
    "collapsed": false
   }
  },
  {
   "cell_type": "code",
   "execution_count": null,
   "outputs": [],
   "source": [
    "scratch.statistics.data_range(num_friends)  # == 99"
   ],
   "metadata": {
    "collapsed": false
   }
  },
  {
   "cell_type": "markdown",
   "source": [
    "The range, like the median, **does not** depend on all values in the data. For example, the range of a list consisting only of 0's and 100's and the range of a list consisting of a single 0, a single 100, and many 50's **both** have a range of 100."
   ],
   "metadata": {
    "collapsed": false
   }
  },
  {
   "cell_type": "markdown",
   "source": [
    "A more complex measure of dispersion is the _variance_, defined as the sum of the squares of the difference of each value and the mean of the data."
   ],
   "metadata": {
    "collapsed": false
   }
  },
  {
   "cell_type": "code",
   "execution_count": null,
   "outputs": [],
   "source": [
    "scratch.statistics.variance(num_friends)  # =~ 81.5435"
   ],
   "metadata": {
    "collapsed": false
   }
  },
  {
   "cell_type": "markdown",
   "source": [
    "The \"units\" of variance as the **square** of data \"units\". These \"square units\" can sometimes be difficult to interpret. The _standard deviation_ addresses that issue by taking the square root of the variance."
   ],
   "metadata": {
    "collapsed": false
   }
  },
  {
   "cell_type": "code",
   "execution_count": null,
   "outputs": [],
   "source": [
    "scratch.statistics.standard_deviation(num_friends)  # =~ 9.0301"
   ],
   "metadata": {
    "collapsed": false
   }
  },
  {
   "cell_type": "markdown",
   "source": [
    "Both the range and the standard deviation have the same outlier problem we encountered for the mean. For example, if the friendliest user in the `num_friends` data had 200 friends instead of 100, the standard deviation would be about 14.89 - an increase of more than 60%!"
   ],
   "metadata": {
    "collapsed": false
   }
  },
  {
   "cell_type": "code",
   "execution_count": null,
   "outputs": [],
   "source": [
    "scratch.statistics.standard_deviation([200] + num_friends[1:])"
   ],
   "metadata": {
    "collapsed": false
   }
  },
  {
   "cell_type": "markdown",
   "source": [
    "A more robust metric is the intequartile range: the difference between the value at the 75th and 25th percentiles."
   ],
   "metadata": {
    "collapsed": false
   }
  },
  {
   "cell_type": "code",
   "execution_count": null,
   "outputs": [],
   "source": [
    "scratch.statistics.interquartile_range(num_friends)  # = 6"
   ],
   "metadata": {
    "collapsed": false
   }
  },
  {
   "cell_type": "code",
   "execution_count": null,
   "outputs": [],
   "source": [
    "scratch.statistics.interquartile_range([200] + num_friends[1:])"
   ],
   "metadata": {
    "collapsed": false
   }
  },
  {
   "cell_type": "markdown",
   "source": [
    "## Correlation"
   ],
   "metadata": {
    "collapsed": false
   }
  },
  {
   "cell_type": "markdown",
   "source": [
    "The VP of Growth at DataSciencester has a theory that the amount of time people spend on the site is related to the number of friends they have. She's asked you to verify this theory.\n",
    "\n",
    "Using the traffic logs, you have created a list called `daily_minutes` that shows the number of minutes per day each user spends on Data Sciencester. You've ordered the list so that each item in `daily_minutes` corresponds to our previous `num_friends` list. We'd like to investigate the relationship between these two lists."
   ],
   "metadata": {
    "collapsed": false
   }
  },
  {
   "cell_type": "markdown",
   "source": [
    "We'll first look at _covariance_, the paired analogue of variance. Remember, variance measures how the items in a list deviate from the mean of the items in the list, covariance measures how two different variables vary in tandem from their means."
   ],
   "metadata": {
    "collapsed": false
   }
  },
  {
   "cell_type": "code",
   "execution_count": null,
   "outputs": [],
   "source": [
    "daily_minutes = [1,68.77,51.25,52.08,38.36,44.54,57.13,51.4,41.42,31.22,\n",
    "                 34.76,54.01,38.79,47.59,49.1,27.66,41.03,36.73,48.65,28.12,\n",
    "                 46.62,35.57,32.98,35,26.07,23.77,39.73,40.57,31.65,31.21,\n",
    "                 36.32,20.45,21.93,26.02,27.34,23.49,46.94,30.5,33.8,24.23,\n",
    "                 21.4,27.94,32.24,40.57,25.07,19.42,22.39,18.42,46.96,23.72,\n",
    "                 26.41,26.97,36.76,40.32,35.02,29.47,30.2,31,38.11,38.18,\n",
    "                 36.31,21.03,30.86,36.07,28.66,29.08,37.28,15.28,24.17,22.31,\n",
    "                 30.17,25.53,19.85,35.37,44.6,17.23,13.47,26.33,35.02,32.09,\n",
    "                 24.81,19.33,28.77,24.26,31.98,25.73,24.86,16.28,34.51,15.23,\n",
    "                 39.72,40.8,26.06,35.76,34.76,16.13,44.04,18.03,19.65,32.62,\n",
    "                 35.59,39.43,14.18,35.24,40.13,41.82,35.45,36.07,43.67,24.61,\n",
    "                 20.9,21.9,18.79,27.61,27.21,26.61,29.77,20.59,27.53,13.82,\n",
    "                 33.2,25,33.1,36.65,18.63,14.87,22.2,36.81,25.53,24.62,26.25,\n",
    "                 18.21,28.08,19.42,29.79,32.8,35.99,28.32,27.79,35.88,29.06,\n",
    "                 36.28,14.1,36.63,37.49,26.9,18.58,38.48,24.48,18.95,33.55,\n",
    "                 14.24,29.04,32.51,25.63,22.22,19,32.73,15.16,13.9,27.2,\n",
    "                 32.01,29.27,33,13.74,20.42,27.32,18.23,35.35,28.48,9.08,24.62,\n",
    "                 20.12,35.26,19.92,31.02,16.49,12.16,30.7,31.22,34.65,13.13,\n",
    "                 27.51,33.2,31.57,14.1,33.42,17.44,10.12,24.42,9.82,23.39,\n",
    "                 30.93,15.03,21.67,31.09,33.29,22.61,26.89,23.48,8.38,27.81,\n",
    "                 32.35,23.84]"
   ],
   "metadata": {
    "collapsed": false
   }
  },
  {
   "cell_type": "code",
   "execution_count": null,
   "outputs": [],
   "source": [
    "daily_hours = [dm / 60 for dm in daily_minutes]"
   ],
   "metadata": {
    "collapsed": false
   }
  },
  {
   "cell_type": "code",
   "execution_count": null,
   "outputs": [],
   "source": [
    "# Daily minutes\n",
    "scratch.statistics.covariance(num_friends, daily_minutes)  # =~ 22.43"
   ],
   "metadata": {
    "collapsed": false
   }
  },
  {
   "cell_type": "code",
   "execution_count": null,
   "outputs": [],
   "source": [
    "# Daily hours\n",
    "scratch.statistics.covariance(num_friends, daily_hours)  # =~ 22.43 / 60"
   ],
   "metadata": {
    "collapsed": false
   }
  },
  {
   "cell_type": "code",
   "execution_count": null,
   "outputs": [],
   "source": [],
   "metadata": {
    "collapsed": false
   }
  }
 ],
 "metadata": {
  "kernelspec": {
   "display_name": "Python 3",
   "language": "python",
   "name": "python3"
  },
  "language_info": {
   "codemirror_mode": {
    "name": "ipython",
    "version": 2
   },
   "file_extension": ".py",
   "mimetype": "text/x-python",
   "name": "python",
   "nbconvert_exporter": "python",
   "pygments_lexer": "ipython2",
   "version": "2.7.6"
  }
 },
 "nbformat": 4,
 "nbformat_minor": 0
}
