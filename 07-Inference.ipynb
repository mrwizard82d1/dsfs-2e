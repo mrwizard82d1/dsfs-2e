{
 "cells": [
  {
   "cell_type": "markdown",
   "source": [
    "# 07 - Hypothesis and Inference"
   ],
   "metadata": {
    "collapsed": false
   }
  },
  {
   "cell_type": "markdown",
   "source": [
    "Code from chapter 7 of the book, _Data Science from Scratch_, 2nd edition."
   ],
   "metadata": {
    "collapsed": false
   }
  },
  {
   "cell_type": "code",
   "execution_count": null,
   "outputs": [],
   "source": [
    "import dsfs as scratch"
   ],
   "metadata": {
    "collapsed": false
   }
  },
  {
   "cell_type": "markdown",
   "source": [
    "## Statistical Hypothesis Testing"
   ],
   "metadata": {
    "collapsed": false
   }
  },
  {
   "cell_type": "markdown",
   "source": [
    "Often, as data scientists, we'll want to test whether a certain hypothesis is likely to be true. For our purposes, hypotheses are assertions like:\n",
    "\n",
    "- \"This coin is fair\"\n",
    "- \"Data scientists prefer Python to R\"\n",
    "\n",
    "and so on, that can be translated into statistics about data.\n",
    "\n",
    "Under various assumptions, these statistics can be thought of as observations of random variables from known distributions, This view allows us to make statements about how likely those assumptions are to hold.\n",
    "\n",
    "In the classical (frequentist?) setup, we have a _null hypothesis_, $H_{0}$, that represents a default position, and some alternative hypothesis, $H_{1}$, with which we'd like to compare it. We use statistics to decide whether we can reject $H_{0}$ as false or not."
   ],
   "metadata": {
    "collapsed": false
   }
  },
  {
   "cell_type": "markdown",
   "source": [
    "## Example: Flipping a Coin"
   ],
   "metadata": {
    "collapsed": false
   }
  },
  {
   "cell_type": "markdown",
   "source": [
    "Imagine we have a coin and want to test whether its fair. We'll make the assumption that the coin has some probability, $p$, of landing heads. Consequently, our null hypothesis is that the coin **is** fair; that is, $p = 0.5$. We'll test this hypothesis against the alternative hypothesis, $p \\neq 0.5$.\n",
    "\n",
    "In particular, our test involves flipping the coin some number, $n$, times and counting the number of heads, $X$. Each coin flip is a Bernoulli trial; consequently, $X \\sim \\mathcal{Bin}(n, p)$.\n",
    "\n",
    "Given a \"large\" number of trials, we can approximate $\\mathcal{Bin}(n, p)$ by a normal distribution."
   ],
   "metadata": {
    "collapsed": false
   }
  },
  {
   "cell_type": "code",
   "execution_count": null,
   "outputs": [],
   "source": [
    "# If n == 100\n",
    "scratch.inference.normal_approximation_to_binomial(100, 0.5)"
   ],
   "metadata": {
    "collapsed": false
   }
  },
  {
   "cell_type": "markdown",
   "source": [
    "Whenever a random variable follows a normal distribution, we can use `normal_cdf` to calculate the amount of probability that values lie within our outside different intervals."
   ],
   "metadata": {
    "collapsed": false
   }
  },
  {
   "cell_type": "code",
   "execution_count": null,
   "outputs": [],
   "source": [
    "# P(Z < 48)\n",
    "scratch.inference.normal_probability_below(48, 50, 5)"
   ],
   "metadata": {
    "collapsed": false
   }
  },
  {
   "cell_type": "code",
   "execution_count": null,
   "outputs": [],
   "source": [
    "# P(Z > 48)\n",
    "scratch.inference.normal_probability_above(48, 50, 5)"
   ],
   "metadata": {
    "collapsed": false
   }
  },
  {
   "cell_type": "code",
   "execution_count": null,
   "outputs": [],
   "source": [
    "# P(Z in [46, 48])\n",
    "scratch.inference.normal_probability_between(46, 48, 50, 5)"
   ],
   "metadata": {
    "collapsed": false
   }
  },
  {
   "cell_type": "code",
   "execution_count": null,
   "outputs": [],
   "source": [
    "# P(Z not in [46, 48])\n",
    "scratch.inference.normal_probability_outside(46, 48, 50, 5)"
   ],
   "metadata": {
    "collapsed": false
   }
  },
  {
   "cell_type": "markdown",
   "source": [
    "We can also do the \"inverse\" operation: calculate the non-tail region or the (symmetric) interval around the mean containing a specified \"amount\" of probability."
   ],
   "metadata": {
    "collapsed": false
   }
  },
  {
   "cell_type": "code",
   "execution_count": null,
   "outputs": [],
   "source": [
    "# Calculate the one-sided tail region containing the \"left-hand\"\n",
    "# (or lower) 20% of the probability. That is, calculate the z for which\n",
    "# P(Z <= z) == 20%.\n",
    "scratch.inference.normal_upper_bound(0.20, 50, 5)"
   ],
   "metadata": {
    "collapsed": false
   }
  },
  {
   "cell_type": "code",
   "execution_count": null,
   "outputs": [],
   "source": [
    "# Calculate the one-sided tail region containing the \"right-hand\"\n",
    "# (or upper) 20% of the probability. That is, calculate the z for which\n",
    "# P(Z >= z) == 20%.\n",
    "scratch.inference.normal_lower_bound(0.20, 50, 5)"
   ],
   "metadata": {
    "collapsed": false
   }
  },
  {
   "cell_type": "code",
   "execution_count": null,
   "outputs": [],
   "source": [
    "# Calculate the two-sided tail (symmetric about the mean) containing 60%\n",
    "# of the probability. That is, calculate the range, [lo, hi] such that\n",
    "# P(lo < Z < hi) == 60%.\n",
    "scratch.inference.normal_two_sided_bounds(0.60, 50, 5)"
   ],
   "metadata": {
    "collapsed": false
   }
  },
  {
   "cell_type": "markdown",
   "source": [
    "Consider another test: we flip the coin 1000 times. If the coin is fair,"
   ],
   "metadata": {
    "collapsed": false
   }
  },
  {
   "cell_type": "code",
   "execution_count": null,
   "outputs": [],
   "source": [
    "# Binom(1000, 0,5) ~= N(500, 15.8)\n",
    "normal_parameters_0 = scratch.inference.normal_approximation_to_binomial(1000, 0.5)\n",
    "normal_parameters_0"
   ],
   "metadata": {
    "collapsed": false
   }
  },
  {
   "cell_type": "markdown",
   "source": [
    "Before performing our analysis, we need to make a decision about _significance_ -- how willing we are to make a _type 1_ error (a \"false positive\"), and reject the null hypothesis, $H_{0}$, even though it is true. For historical reasons, we often choose a significance of 5% (or 1%)."
   ],
   "metadata": {
    "collapsed": false
   }
  },
  {
   "cell_type": "code",
   "execution_count": null,
   "outputs": [],
   "source": [
    "# If we choose 5%, we are choosing to accept any hypothesis within 95%\n",
    "# of the mean of our normal approximation.\n",
    "lo, hi = scratch.inference.normal_two_sided_bounds(0.95, normal_parameters_0.mu, normal_parameters_0.sigma)\n",
    "lo, hi"
   ],
   "metadata": {
    "collapsed": false
   }
  },
  {
   "cell_type": "code",
   "execution_count": null,
   "outputs": [],
   "source": [
    "# Converting to integral values\n",
    "round(lo), round(hi)"
   ],
   "metadata": {
    "collapsed": false
   }
  },
  {
   "cell_type": "markdown",
   "source": [
    "If we assume our null hypothesis, $H_{0}: p == 0.5$, is true, than the probability that we observe a value outside the range [469, 531] is only 5%.\n",
    "\n",
    "To put it another way, if $H_{0}$ is true and we repeat our 1000 tosses 20 times, we expect to observe a value in [469, 531] 19 times, and we only expect to observe a value outside [469, 531] 1 time out of 20 repetitions of our 1000 toss test.\n",
    "\n",
    "In addition to significance, we are often interested in the _power_ of a test. The _power_ is the probability of **not** making a _type 2 error_ (a false negative). (That is, failing to reject the null hypothesis, $H_{0}$, when it is actually **false**.)\n",
    "\n",
    "In order to measure the power, we must define what \"$H_{0}$ is false\" _means_. Specifically, in our 1000-toss test, knowing merely that $p \\neq 0.5$ does not give us much information about the distribution of $X$.\n",
    "\n",
    "Let's examine the situation in which $p$ is actually 0.55."
   ],
   "metadata": {
    "collapsed": false
   }
  },
  {
   "cell_type": "code",
   "execution_count": null,
   "outputs": [],
   "source": [
    "# The bounds based on p == 0.5\n",
    "lo, hi = scratch.inference.normal_two_sided_bounds(0.95, normal_parameters_0.mu, normal_parameters_0.sigma)"
   ],
   "metadata": {
    "collapsed": false
   }
  },
  {
   "cell_type": "code",
   "execution_count": null,
   "outputs": [],
   "source": [
    "# Calculate the normal parameters assuming p == 0.55\n",
    "normal_parameters_1 = scratch.inference.normal_approximation_to_binomial(1000, 0.55)"
   ],
   "metadata": {
    "collapsed": false
   }
  },
  {
   "cell_type": "code",
   "execution_count": null,
   "outputs": [],
   "source": [
    "# A type 2 error occurs when we **fail** to reject the null hypothesis.\n",
    "# That is, we fail to reject the null hypothesis when X is in our\n",
    "# **original** interval.\n",
    "type_2_probability = scratch.inference.normal_probability_between(lo, hi,\n",
    "                                                                  normal_parameters_1.mu,\n",
    "                                                                  normal_parameters_1.sigma)\n",
    "type_2_probability"
   ],
   "metadata": {
    "collapsed": false
   }
  },
  {
   "cell_type": "code",
   "execution_count": null,
   "outputs": [],
   "source": [
    "power = 1 - type_2_probability\n",
    "power"
   ],
   "metadata": {
    "collapsed": false
   }
  },
  {
   "cell_type": "markdown",
   "source": [
    "Imagine instead that our null hypothesis was that the coin was not biased toward heads. In symbols,\n",
    "\n",
    "$$\n",
    "    p \\leq 0.5\n",
    "$$\n",
    "\n",
    "Because our hypothesis is not a point, the limit of a central region, our hypothesis is no longer about a region about the mean but about a region that includes one side. Consequently, in our analysis, we want to consider a _one-sided test_ that rejects the null hypothesis when $X$ is much larger than 500 (1/2 of 1000 tosses) but **not** when $X$ is smaller than 500.\n",
    "\n",
    "Thus, we want to \"design\" a 5% significance test that only uses a single tail. In this specific case, we want to examine `normal_probability_below` to find the point, the cutoff, below which 95% of the probability lies."
   ],
   "metadata": {
    "collapsed": false
   }
  },
  {
   "cell_type": "code",
   "execution_count": null,
   "outputs": [],
   "source": [
    "# Calculate the number of heads in 1000 tosses (each with probability of\n",
    "# heads of 0.5) such that 95% of all 1000-toss \"repetitions\" would have\n",
    "# **fewer** heads.\n",
    "hi = scratch.inference.normal_upper_bound(0.95, normal_parameters_0.mu, normal_parameters_0.sigma)\n",
    "hi"
   ],
   "metadata": {
    "collapsed": false
   }
  },
  {
   "cell_type": "markdown",
   "source": [
    "Note that the \"hi\" value is now 526. This value is less than the previous high value (531) because this particular test is a one-sided test."
   ],
   "metadata": {
    "collapsed": false
   }
  },
  {
   "cell_type": "code",
   "execution_count": null,
   "outputs": [],
   "source": [
    "type_2_probability = scratch.inference.normal_probability_below(hi, normal_parameters_1.mu, normal_parameters_1.sigma)\n",
    "type_2_probability"
   ],
   "metadata": {
    "collapsed": false
   }
  },
  {
   "cell_type": "code",
   "execution_count": null,
   "outputs": [],
   "source": [
    "power = 1 - type_2_probability\n",
    "power"
   ],
   "metadata": {
    "collapsed": false
   }
  },
  {
   "cell_type": "markdown",
   "source": [
    "This test is a more powerful test, since it no longer rejects $H_0$ when $X < 469$. (This situation is very unlikely to happen if $H_1$ is true.) Instead this test rejects $H_0$ when $X$ is in [526, 531]. (This situation is somewhat likely if $H_1$ is true.)"
   ],
   "metadata": {
    "collapsed": false
   }
  },
  {
   "cell_type": "code",
   "execution_count": null,
   "outputs": [],
   "source": [],
   "metadata": {
    "collapsed": false
   }
  }
 ],
 "metadata": {
  "kernelspec": {
   "display_name": "Python 3",
   "language": "python",
   "name": "python3"
  },
  "language_info": {
   "codemirror_mode": {
    "name": "ipython",
    "version": 2
   },
   "file_extension": ".py",
   "mimetype": "text/x-python",
   "name": "python",
   "nbconvert_exporter": "python",
   "pygments_lexer": "ipython2",
   "version": "2.7.6"
  }
 },
 "nbformat": 4,
 "nbformat_minor": 0
}
