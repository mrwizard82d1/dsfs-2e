{
 "cells": [
  {
   "cell_type": "markdown",
   "id": "5c65725f",
   "metadata": {},
   "source": [
    "# Introduction"
   ]
  },
  {
   "cell_type": "code",
   "execution_count": 1,
   "id": "e7aadc56",
   "metadata": {},
   "outputs": [],
   "source": [
    "users = [\n",
    "    {'id': 0, 'name': 'Hero'},\n",
    "    {'id': 1, 'name': 'Dunn'},\n",
    "    {'id': 2, 'name': 'Sue'},\n",
    "    {'id': 3, 'name': 'Chi'},\n",
    "    {'id': 4, 'name': 'Thor'},\n",
    "    {'id': 5, 'name': 'Clive'},\n",
    "    {'id': 6, 'name': 'Hicks'},\n",
    "    {'id': 7, 'name': 'Devin'},\n",
    "    {'id': 8, 'name': 'Kate'},\n",
    "    {'id': 9, 'name': 'Klein'},\n",
    "]"
   ]
  },
  {
   "cell_type": "code",
   "execution_count": 2,
   "id": "4ebd9e33",
   "metadata": {},
   "outputs": [],
   "source": [
    "friendship_pairs = [\n",
    "    (0, 1), (0, 2), \n",
    "    (1, 2), (1, 3),\n",
    "    (2, 3), \n",
    "    (3, 4),\n",
    "    (4, 5),\n",
    "    (5, 6), (5, 7),\n",
    "    (6, 8),\n",
    "    (7, 8),\n",
    "    (8, 9),\n",
    "]"
   ]
  },
  {
   "cell_type": "code",
   "execution_count": 3,
   "id": "6a25df38",
   "metadata": {},
   "outputs": [
    {
     "data": {
      "text/plain": [
       "{0: [1, 2],\n",
       " 1: [0, 2, 3],\n",
       " 2: [0, 1, 3],\n",
       " 3: [1, 2, 4],\n",
       " 4: [3, 5],\n",
       " 5: [4, 6, 7],\n",
       " 6: [5, 8],\n",
       " 7: [5, 8],\n",
       " 8: [6, 7, 9],\n",
       " 9: [8]}"
      ]
     },
     "execution_count": 3,
     "metadata": {},
     "output_type": "execute_result"
    }
   ],
   "source": [
    "# Create an \"empty\" dictionary of friendships\n",
    "friendships = {user['id']: [] for user in users}\n",
    "\n",
    "# Add the (symmetric) friendships specified in `friendship_pairs`\n",
    "for i, j in friendship_pairs:\n",
    "    friendships[i].append(j)  # Map one friend id to another\n",
    "    friendships[j].append(i)  # Add the reverse\n",
    "    \n",
    "friendships"
   ]
  },
  {
   "cell_type": "markdown",
   "id": "ff1460b8",
   "metadata": {},
   "source": [
    "I was first confused by this output; but after perusing it, I \n",
    "realized that the symmetry of friendships are **not** obvious\n",
    "when only looking at `friendship_pairs`."
   ]
  },
  {
   "cell_type": "code",
   "execution_count": null,
   "id": "80e6772f",
   "metadata": {},
   "outputs": [],
   "source": []
  }
 ],
 "metadata": {
  "kernelspec": {
   "display_name": "data-science-2e",
   "language": "python",
   "name": "data-science-2e"
  },
  "language_info": {
   "codemirror_mode": {
    "name": "ipython",
    "version": 3
   },
   "file_extension": ".py",
   "mimetype": "text/x-python",
   "name": "python",
   "nbconvert_exporter": "python",
   "pygments_lexer": "ipython3",
   "version": "3.8.7"
  }
 },
 "nbformat": 4,
 "nbformat_minor": 5
}
