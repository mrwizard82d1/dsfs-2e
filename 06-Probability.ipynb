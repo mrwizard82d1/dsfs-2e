{
 "cells": [
  {
   "cell_type": "markdown",
   "source": [
    "# Chapter 06 - Probabilities"
   ],
   "metadata": {
    "collapsed": false
   }
  },
  {
   "cell_type": "markdown",
   "source": [
    "Code from \"Chapter 6\" of the book, _Data Science from Scratch_, 2nd edition, by Joel Grus."
   ],
   "metadata": {
    "collapsed": false
   }
  },
  {
   "cell_type": "code",
   "execution_count": null,
   "outputs": [],
   "source": [
    "import enum\n",
    "import random"
   ],
   "metadata": {
    "collapsed": false
   }
  },
  {
   "cell_type": "markdown",
   "source": [
    "We use conditional probabilities to calculate, \"What is the probability that 'both children are girls' given that 'at least one of the children is a girl'?\"\n",
    "\n",
    "Mathematically, if we have:\n",
    "\n",
    "- B - The event, 'both children are girls'\n",
    "- L - The event, 'at least one of the children are girls'\n",
    "\n",
    "Symbolically, we calculate the conditional probabilities as:\n",
    "\n",
    "$$\n",
    "    P(B|L) = \\frac{P(B, L)}{P(L)} = \\frac{P(B)}{P(L)} = \\frac{\\frac{1}{4}}{\\frac{3}{4}} = \\frac{1}{3}\n",
    "$$"
   ],
   "metadata": {
    "collapsed": false
   }
  },
  {
   "cell_type": "markdown",
   "source": [
    "\n",
    "We can \"check\" this calculation by \"generating\" a lot of families"
   ],
   "metadata": {
    "collapsed": false
   }
  },
  {
   "cell_type": "code",
   "execution_count": null,
   "outputs": [],
   "source": [
    "# An `Enum` is a typed set of enumerated values. We can use them to make our\n",
    "# code more descriptive and readable.\n",
    "class Kid(enum.Enum):\n",
    "    BOY = 0\n",
    "    GIRL = 1\n",
    "\n",
    "def random_kid() -> Kid:\n",
    "    return random.choice([Kid.BOY, Kid.GIRL])\n",
    "\n",
    "both_girls = 0\n",
    "older_girl = 0\n",
    "either_girl = 0\n",
    "\n",
    "random.seed(0)  # A specific seed makes random values repeatable.\n",
    "\n",
    "for _ in range(1000):  # Don't care about the iterated values\n",
    "    younger = random_kid()\n",
    "    older = random_kid()"
   ],
   "metadata": {
    "collapsed": false
   }
  }
 ],
 "metadata": {
  "kernelspec": {
   "display_name": "Python 3",
   "language": "python",
   "name": "python3"
  },
  "language_info": {
   "codemirror_mode": {
    "name": "ipython",
    "version": 2
   },
   "file_extension": ".py",
   "mimetype": "text/x-python",
   "name": "python",
   "nbconvert_exporter": "python",
   "pygments_lexer": "ipython2",
   "version": "2.7.6"
  }
 },
 "nbformat": 4,
 "nbformat_minor": 0
}
