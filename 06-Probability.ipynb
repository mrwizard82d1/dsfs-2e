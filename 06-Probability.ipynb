{
 "cells": [
  {
   "cell_type": "markdown",
   "source": [
    "# Chapter 06 - Probabilities"
   ],
   "metadata": {
    "collapsed": false
   }
  },
  {
   "cell_type": "markdown",
   "source": [
    "Code from \"Chapter 6\" of the book, _Data Science from Scratch_, 2nd edition, by Joel Grus."
   ],
   "metadata": {
    "collapsed": false
   }
  },
  {
   "cell_type": "code",
   "execution_count": null,
   "outputs": [],
   "source": [
    "import enum\n",
    "import fractions\n",
    "import random"
   ],
   "metadata": {
    "collapsed": false
   }
  },
  {
   "cell_type": "code",
   "execution_count": null,
   "outputs": [],
   "source": [
    "import matplotlib.pyplot as plt"
   ],
   "metadata": {
    "collapsed": false
   }
  },
  {
   "cell_type": "code",
   "execution_count": null,
   "outputs": [],
   "source": [
    "import dsfs as scratch"
   ],
   "metadata": {
    "collapsed": false
   }
  },
  {
   "cell_type": "markdown",
   "source": [
    "## Dependence and Independence"
   ],
   "metadata": {
    "collapsed": false
   }
  },
  {
   "cell_type": "markdown",
   "source": [
    "Roughly speaking, we say that two events, _E_ and _F_, are **dependent** if knowing something about whether _E_ happens gives us information about whether _F_ happens (and vice versa). Otherwise, we say that _E_ and _F_ are **independent**."
   ],
   "metadata": {
    "collapsed": false
   }
  },
  {
   "cell_type": "markdown",
   "source": [
    "Mathematically, we say that two events, _E_ and _F_, are independent if the probability that both happens is the product of the probabilities that each event happens. In symbols:\n",
    "\n",
    "$$\n",
    "    P (E|F) = P(E)P( F)\n",
    "$$"
   ],
   "metadata": {
    "collapsed": false
   }
  },
  {
   "cell_type": "markdown",
   "source": [
    "## Conditional Probability"
   ],
   "metadata": {
    "collapsed": false
   }
  },
  {
   "cell_type": "markdown",
   "source": [
    "We use conditional probabilities to calculate, \"What is the probability that 'both children are girls' given that 'at least one of the children is a girl'?\"\n",
    "\n",
    "Mathematically, if we have:\n",
    "\n",
    "- B - The event, 'both children are girls'\n",
    "- L - The event, 'at least one of the children are girls'\n",
    "\n",
    "Symbolically, we calculate the conditional probabilities as:\n",
    "\n",
    "$$\n",
    "    P(B|L) = \\frac{P(B, L)}{P(L)} = \\frac{P(B)}{P(L)} = \\frac{\\frac{1}{4}}{\\frac{3}{4}} = \\frac{1}{3}\n",
    "$$"
   ],
   "metadata": {
    "collapsed": false
   }
  },
  {
   "cell_type": "markdown",
   "source": [
    "\n",
    "We can \"check\" this calculation by \"generating\" a lot of families; that is, by performing a simulation."
   ],
   "metadata": {
    "collapsed": false
   }
  },
  {
   "cell_type": "code",
   "execution_count": null,
   "outputs": [],
   "source": [
    "# An `Enum` is a typed set of enumerated values. We can use them to make our\n",
    "# code more descriptive and readable.\n",
    "class Kid(enum.Enum):\n",
    "    BOY = 0\n",
    "    GIRL = 1\n",
    "\n",
    "def random_kid() -> Kid:\n",
    "    return random.choice([Kid.BOY, Kid.GIRL])\n",
    "\n",
    "both_girls = 0\n",
    "older_girl = 0\n",
    "either_girl = 0\n",
    "\n",
    "random.seed(0)  # A specific seed makes random values repeatable.\n",
    "\n",
    "for _ in range(1000):  # Don't care about the iterated values\n",
    "    younger = random_kid()\n",
    "    older = random_kid()\n",
    "\n",
    "    if older == Kid.GIRL:\n",
    "        older_girl += 1\n",
    "\n",
    "    if older == Kid.GIRL and younger == Kid.GIRL:\n",
    "        both_girls += 1\n",
    "\n",
    "    if older == Kid.GIRL or younger == Kid.GIRL:\n",
    "        either_girl += 1"
   ],
   "metadata": {
    "collapsed": false
   }
  },
  {
   "cell_type": "code",
   "execution_count": null,
   "outputs": [],
   "source": [
    "print(f'P( both | older ) = {both_girls / older_girl} ~= {fractions.Fraction(1, 2)}')\n",
    "print(f'P( both | either ) = {both_girls / either_girl} ~= {fractions.Fraction(1, 3)}')"
   ],
   "metadata": {
    "collapsed": false
   }
  },
  {
   "cell_type": "markdown",
   "source": [
    "## Bayes's Theorem"
   ],
   "metadata": {
    "collapsed": false
   }
  },
  {
   "cell_type": "markdown",
   "source": [
    "One of the data scientist's best friends is Bayes's Theorem, which is a way of \"reversing\" conditional probabilities.\n",
    "\n",
    "Imagine that we are interested in the conditional probability of _E_ occurring given that _F_ has occurred; however, the only information we have is the \"reverse\" conditional probability: the probability that _F_ occurs given that _E_ has occurred. How can we solve this problem?\n",
    "\n",
    "We can solve this problem by applying the definition of conditional probability **twice**.\n",
    "\n",
    "$$\n",
    "    P(E | F) = \\frac{P(E, F)}{P(F)}\n",
    "$$\n",
    "\n",
    "But,\n",
    "\n",
    "$$\n",
    "    P(E, F) = P(F, E) = P(F | E) P(E)\n",
    "$$\n",
    "\n",
    "Substituting for $ P(E, F) $ in the first equation, we get:\n",
    "\n",
    "$$\n",
    "    P(E | F) = \\frac{P(F | E)P(E)}{P(F)}\n",
    "$$\n",
    "\n",
    "We can split the event _F_ into (F and E) + (F and not E). In symbols\n",
    "\n",
    "$$\n",
    "    P(F) = P(F, E) + P(F, \\neg{E})\n",
    "$$\n",
    "\n",
    "Substituting this expression for P(F) and expressing the joint probabilities in terms of conditional probabilities gives us:\n",
    "\n",
    "$$\n",
    "    P(E | F) = \\frac{P(F | E)(P(E)}{P(F, E) + P(F, \\neg{E})|\n",
    "$$\n",
    "\n",
    "And\n",
    "\n",
    "$$\n",
    "    P(E | F) = \\frac{P(F | E)(P(E)}{P(F | E)P(E) + P(F | \\neg{E})P(\\neg{E})}\n",
    "$$\n",
    "\n",
    "Which is one of the formulations of Bayes's Theorem."
   ],
   "metadata": {
    "collapsed": false
   }
  },
  {
   "cell_type": "markdown",
   "source": [
    "As an application of Bayes's Theorem (with tongue firmly in cheek demonstrating why data scientists are smarter than doctors), imagine that a certain diseases affects only 1 in 10,000 people in the general population. Further, imagine that a doctor orders a test that gives the correct result, \"diseased\" if you have this diseases and \"not diseased\" if you do not have the disease, 99% of the time. Finally, imagine that the result of your test is \"diseased.\"\n",
    "\n",
    "What is the actual probability that you have this diseases?"
   ],
   "metadata": {
    "collapsed": false
   }
  },
  {
   "cell_type": "markdown",
   "source": [
    "We can use Bayes's Theorem to calculate this probability. If _D_ is the event \"actually diseased\" and _T_ is the event \"test reports 'diseased'\", then we have the following symbolic equation:\n",
    "\n",
    "$$\n",
    "    P(D | T) = \\frac{(P(T | D)(P(D)}{P(T | D)P(D) + P(T | \\neg{D})P(\\neg{D})}\n",
    "$$\n",
    "\n",
    "But,\n",
    "\n",
    "- $P(T | D) = 0.99$\n",
    "- $P(D) == 0.0001$\n",
    "- $P(T | \\neg{D}) == 0.01$\n",
    "- $P(\\neg{D}) == 0.9999$\n",
    "\n",
    "Substituting these numbers produces:\n",
    "\n",
    "$$\n",
    "    P(D | T) = \\frac{0.99 \\cdot 0.0001}{(0.99 \\cdot 0.0001) + (0.01 \\cdot 0.9999)} = 0.98\\%\n",
    "$$"
   ],
   "metadata": {
    "collapsed": false
   }
  },
  {
   "cell_type": "markdown",
   "source": [
    "**NOTE**: This analysis is unrealistic. A hidden assumption is that people take the test at random. In reality, since the test is administered mostly to people who have symptoms, the correct conditioning event is something like \"test positive and have symptoms\". In this scenario, the odds of having the disease are likely much higher than the result of our analysis.\n"
   ],
   "metadata": {
    "collapsed": false
   }
  },
  {
   "cell_type": "markdown",
   "source": [
    "## Random Variables"
   ],
   "metadata": {
    "collapsed": false
   }
  },
  {
   "cell_type": "markdown",
   "source": [
    "A _random variable_ is a variable whose possible values have an associated **probability distribution**.\n",
    "\n",
    "For example, a very simple random variable has the value 1 if a coin flip is heads and 0 if the coin flip is tails (a Bernoulli trial with probability of heads $\\frac{1}{2}$). A more complicated example is the number of heads that one observes when flipping a coin 10 times (or 10 \"identical\" coins) (a binomial distribution of 10 Bernoulli trials each with probability of heads $\\frac{1}{2}$). Another complicated example is the probability of picking an integer from the range [0, 9] where all numbers are equally likely (a \"uniform\" distribution).\n",
    "\n",
    "The _expected value_ of a random variable is the average of all the possible values in the distribution weighted by the probability of seeing that value. For a Bernoulli trial with probability $\\frac{1}{2}$ is\n",
    "\n",
    "$$\n",
    "    \\frac{1}{2} \\cdot 1 + \\frac{1}{2} \\cdot 0 == \\frac{1}{2}\n",
    "$$\n",
    "\n",
    "Random variables can be _conditioned_ on events just as other events can.\n",
    "\n",
    "For the most part, we will use random variables implicitly in what we do."
   ],
   "metadata": {
    "collapsed": false
   }
  },
  {
   "cell_type": "markdown",
   "source": [
    "## Continuous Distributions"
   ],
   "metadata": {
    "collapsed": false
   }
  },
  {
   "cell_type": "markdown",
   "source": [
    "### The Uniform Distribution"
   ],
   "metadata": {
    "collapsed": false
   }
  },
  {
   "cell_type": "markdown",
   "source": [
    "A coin flip, multiple coin flips and selecting integers in [0, 9] with each integer selected with probability $\\frac{1}{10}$ are all examples of _discrete_ distributions: a distribution that associates probabilities with **discrete** outcomes.\n",
    "\n",
    "Imagine a distribution that puts equal probabilities on each value in [0, 1]. Because an **infinite** number of values exist in [0, 1], the probability of each value tends toward 0 in such a way that the sum of all these values is identically 1; that is,\n",
    "\n",
    "$$\n",
    "    \\int{0}^1 uniform(x)dx = 1\n",
    "$$\n",
    "\n",
    "if \"uniform(x)\" is the uniform distribution between 0 and 1.\n"
   ],
   "metadata": {
    "collapsed": false
   }
  },
  {
   "cell_type": "markdown",
   "source": [
    "The function, \"uniform(x)\", is a _probability density function_."
   ],
   "metadata": {
    "collapsed": false
   }
  },
  {
   "cell_type": "markdown",
   "source": [
    "Notice that the Python's `random.random()` is a (pseudo)random variable modelling a uniform probability density function."
   ],
   "metadata": {
    "collapsed": false
   }
  },
  {
   "cell_type": "code",
   "execution_count": null,
   "outputs": [],
   "source": [
    "{x: scratch.probability.uniform_pdf(x) for x in [-0.0001, 0, 0.5, 0.9999, 1]}"
   ],
   "metadata": {
    "collapsed": false
   }
  },
  {
   "cell_type": "markdown",
   "source": [
    "We are often more interested in the _cumulative density function_, (CDF), which gives the probability that a random variable is less than or equal to a specified value."
   ],
   "metadata": {
    "collapsed": false
   }
  },
  {
   "cell_type": "code",
   "execution_count": null,
   "outputs": [],
   "source": [
    "{x: scratch.probability.uniform_cdf(x) for x in [-0.0001, 0, 0.5, 0.9999, 1]}"
   ],
   "metadata": {
    "collapsed": false
   }
  },
  {
   "cell_type": "code",
   "execution_count": null,
   "outputs": [],
   "source": [
    "xs = [x / 10.0 for x in range(-10, 20)]\n",
    "plt.plot(xs, [scratch.probability.uniform_cdf(x) for x in xs], 'g-', label='cdf')\n",
    "plt.legend()\n",
    "plt.title('Uniform PDF')\n",
    "plt.show()"
   ],
   "metadata": {
    "collapsed": false
   }
  },
  {
   "cell_type": "code",
   "execution_count": null,
   "outputs": [],
   "source": [],
   "metadata": {
    "collapsed": false
   }
  }
 ],
 "metadata": {
  "kernelspec": {
   "display_name": "Python 3",
   "language": "python",
   "name": "python3"
  },
  "language_info": {
   "codemirror_mode": {
    "name": "ipython",
    "version": 2
   },
   "file_extension": ".py",
   "mimetype": "text/x-python",
   "name": "python",
   "nbconvert_exporter": "python",
   "pygments_lexer": "ipython2",
   "version": "2.7.6"
  }
 },
 "nbformat": 4,
 "nbformat_minor": 0
}
