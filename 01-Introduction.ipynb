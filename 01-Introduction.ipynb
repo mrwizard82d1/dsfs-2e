{
 "cells": [
  {
   "cell_type": "markdown",
   "source": [
    "# Chapter 01 - Introduction"
   ],
   "metadata": {
    "collapsed": false
   }
  },
  {
   "cell_type": "code",
   "execution_count": null,
   "outputs": [],
   "source": [
    "# Useful functional library\n",
    "import cytoolz.curried as toolz"
   ],
   "metadata": {
    "collapsed": false
   }
  },
  {
   "cell_type": "markdown",
   "source": [
    "## Finding Key Connectors"
   ],
   "metadata": {
    "collapsed": false
   }
  },
  {
   "cell_type": "markdown",
   "source": [
    "User list for entire DataSciencester network"
   ],
   "metadata": {
    "collapsed": false
   }
  },
  {
   "cell_type": "code",
   "execution_count": null,
   "outputs": [],
   "source": [
    "users = [\n",
    "    { 'id': 0, 'name': 'Hero' },\n",
    "    { 'id': 1, 'name': 'Dunn' },\n",
    "    { 'id': 2, 'name': 'Sue' },\n",
    "    { 'id': 3, 'name': 'Chi' },\n",
    "    { 'id': 4, 'name': 'Thor' },\n",
    "    { 'id': 5, 'name': 'Clive' },\n",
    "    { 'id': 6, 'name': 'Hicks' },\n",
    "    { 'id': 7, 'name': 'Devin' },\n",
    "    { 'id': 8, 'name': 'Kate' },\n",
    "    { 'id': 9, 'name': 'Klein' },\n",
    "]"
   ],
   "metadata": {
    "collapsed": false
   }
  },
  {
   "cell_type": "markdown",
   "source": [
    "The raw friendship list is a list of tuples containing a pair of IDs"
   ],
   "metadata": {
    "collapsed": false
   }
  },
  {
   "cell_type": "code",
   "execution_count": null,
   "outputs": [],
   "source": [
    "friendship_pairs = [\n",
    "    (0, 1), (0, 2),\n",
    "    (1, 2), (1, 3),\n",
    "    (2, 3),\n",
    "    (3, 4),\n",
    "    (4, 5),\n",
    "    (5, 6), (5, 7),\n",
    "    (6, 8),\n",
    "    (7, 8),\n",
    "    (8, 9),\n",
    "]"
   ],
   "metadata": {
    "collapsed": false
   }
  },
  {
   "cell_type": "markdown",
   "source": [
    "This representation is not the easiest with which to work.\n",
    "\n",
    "Let's create a `dict` mapping user IDs to a list of friend user IDs"
   ],
   "metadata": {
    "collapsed": false
   }
  },
  {
   "cell_type": "code",
   "execution_count": null,
   "outputs": [],
   "source": [
    "# Initialize the `dict` with an empty list for each user ID\n",
    "friendships = { user['id']: [] for user in users }"
   ],
   "metadata": {
    "collapsed": false
   }
  },
  {
   "cell_type": "code",
   "execution_count": null,
   "outputs": [],
   "source": [
    "# Loop over the `friendship_pairs` to append friends to the `friendships` values\n",
    "for i, j in friendship_pairs:\n",
    "    friendships[i].append(j)  # Add j as a friend of user i\n",
    "    friendships[j].append(i)  # Friendships are symmetrical"
   ],
   "metadata": {
    "collapsed": false
   }
  },
  {
   "cell_type": "code",
   "execution_count": null,
   "outputs": [],
   "source": [
    "friendships"
   ],
   "metadata": {
    "collapsed": false
   }
  },
  {
   "cell_type": "markdown",
   "source": [
    "We can now easily ask questions of our `friendships` graph like, \"What's the average number of connections?\""
   ],
   "metadata": {
    "collapsed": false
   }
  },
  {
   "cell_type": "code",
   "execution_count": null,
   "outputs": [],
   "source": [
    "# We find the _total_ number of connections by summing up the lengths of all the friends lists\n",
    "def friend_count(user):\n",
    "    \"\"\"How many friends does _user_ have?\"\"\"\n",
    "    user_id = user['id']\n",
    "    friends_ids = friendships[user_id]\n",
    "    return len(friends_ids)\n",
    "\n",
    "total_connections = sum(friend_count(user) for user in users)\n",
    "total_connections"
   ],
   "metadata": {
    "collapsed": false
   }
  },
  {
   "cell_type": "code",
   "execution_count": null,
   "outputs": [],
   "source": [
    "# Calculate the average friendship length by dividing the `total_connections` by the number of users\n",
    "user_count = len(users)\n",
    "avg_connections = total_connections / user_count\n",
    "avg_connections"
   ],
   "metadata": {
    "collapsed": false
   }
  },
  {
   "cell_type": "markdown",
   "source": [
    "Find the most connected people; that is, the people who have the largest number of friends."
   ],
   "metadata": {
    "collapsed": false
   }
  },
  {
   "cell_type": "code",
   "execution_count": null,
   "outputs": [],
   "source": [
    "# Create a list of pairs between user IDs and the number of friends\n",
    "friend_counts_by_id = [(user['id'], friend_count(user)) for user in users]\n",
    "friend_counts_by_id"
   ],
   "metadata": {
    "collapsed": false
   }
  },
  {
   "cell_type": "code",
   "execution_count": null,
   "outputs": [],
   "source": [
    "# And sort the list by the number of friends\n",
    "friend_counts_by_id.sort(key=lambda friend_count_by_id: friend_count_by_id[1], reverse=True)\n",
    "friend_counts_by_id"
   ],
   "metadata": {
    "collapsed": false
   }
  },
  {
   "cell_type": "markdown",
   "source": [
    "We have identified people who are _central_ to the network. Specifically, we have calculated the network metric _degree centrality_."
   ],
   "metadata": {
    "collapsed": false
   }
  },
  {
   "cell_type": "markdown",
   "source": [
    "## Data Scientists You May Know"
   ],
   "metadata": {
    "collapsed": false
   }
  },
  {
   "cell_type": "markdown",
   "source": [
    "Let's try simply calculating the friends of the friend of the user."
   ],
   "metadata": {
    "collapsed": false
   }
  },
  {
   "cell_type": "code",
   "execution_count": null,
   "outputs": [],
   "source": [
    "# \"Friend of a friend\" - bad implementation\n",
    "def foaf_ids_bad(user):\n",
    "    \"\"\"Calculate \"friends of a friend\" of `user`\"\"\"\n",
    "    return [foaf_id\n",
    "            for friend_id in friendships[user['id']]  # for each friend of the user\n",
    "            for foaf_id in friendships[friend_id]]  # calculate the IDs of the friend's friends"
   ],
   "metadata": {
    "collapsed": false
   }
  },
  {
   "cell_type": "code",
   "execution_count": null,
   "outputs": [],
   "source": [
    "# Testing this on \"Hero\" produces unexpected (erroneous) results\n",
    "foaf_ids_bad(users[0])"
   ],
   "metadata": {
    "collapsed": false
   }
  },
  {
   "cell_type": "markdown",
   "source": [
    "Argh... The result contains 0, Hero himself, (twice!), Chi twice, and Dunn and Sue even though Dunn and Sue are already friends.\n",
    "\n",
    "These results make sense because:\n",
    "\n",
    "- Hero is indeed friends with both of his friends\n",
    "- Dunn and Sue are already friends (and friendship is symmetric)\n",
    "- Chi is reachable through two different friends"
   ],
   "metadata": {
    "collapsed": false
   }
  },
  {
   "cell_type": "code",
   "execution_count": null,
   "outputs": [],
   "source": [
    "print(friendships[0])\n",
    "print(friendships[1])\n",
    "print(friendships[2])"
   ],
   "metadata": {
    "collapsed": false
   }
  },
  {
   "cell_type": "markdown",
   "source": [
    "Knowing that people are friends of a friend in _multiple_ ways seems like useful information.\n",
    "\n",
    "Perhaps instead of a list of friends of a friend, we should return a count of unique friends?"
   ],
   "metadata": {
    "collapsed": false
   }
  },
  {
   "cell_type": "code",
   "execution_count": null,
   "outputs": [],
   "source": [
    "# Better \"friends of a friend\" implementation\n",
    "from collections import Counter\n",
    "\n",
    "def friends_of_friends(user):\n",
    "    \"\"\"A better calculation of 'friends of a friend'\n",
    "\n",
    "    Note: The argument to counter is a\n",
    "    [generator expression](https://docs.python.org/3/glossary.html#index-20). It cannot live \"outside\" of an\n",
    "    argument to a function.\n",
    "\n",
    "    If one wants to test its value, one must copy the text and paste it inside a pair of brackets; that is,\n",
    "    one must evaluate as part of a list comprehension.\n",
    "    \"\"\"\n",
    "    user_id = user['id']  # alias to lessen typing errors\n",
    "    return Counter(\n",
    "        foaf_id\n",
    "        for friend_id in friendships[user_id]  # for each of my friends\n",
    "        for foaf_id in friendships[friend_id]  # find their friends\n",
    "        if foaf_id != user_id  # who are neither me\n",
    "        and foaf_id not in friendships[user_id]  # nor a friend I already have\n",
    "    )"
   ],
   "metadata": {
    "collapsed": false
   }
  },
  {
   "cell_type": "code",
   "execution_count": null,
   "outputs": [],
   "source": [
    "# Testing the `Counter` argument\n",
    "test_id = 3\n",
    "[foaf_id\n",
    " for friend_id in friendships[test_id]  # for each of my friends\n",
    " for foaf_id in friendships[friend_id]  # find their friends\n",
    " if foaf_id != test_id  # who are neither me\n",
    " and foaf_id not in friendships[test_id]]"
   ],
   "metadata": {
    "collapsed": false
   }
  },
  {
   "cell_type": "code",
   "execution_count": null,
   "outputs": [],
   "source": [
    "print(friends_of_friends(users[3]))"
   ],
   "metadata": {
    "collapsed": false
   }
  },
  {
   "cell_type": "markdown",
   "source": [
    "You, a budding member of the DataSciencester staff, in addition to perhaps having an interest in your friends' friends, might also be interested in meeting other staff members with similar interests.\n",
    "\n",
    "Here are the interests of staff members represented as a list of id-interest pairs."
   ],
   "metadata": {
    "collapsed": false
   }
  },
  {
   "cell_type": "code",
   "execution_count": null,
   "outputs": [],
   "source": [
    "interests = [\n",
    "    (0, 'hadoop'), (0, 'Big Data'), (0, 'HBase'), (0, 'Java'), (0, 'Spark'), (0, 'Storm'), (0, 'Cassandra'),\n",
    "    (1, 'NoSQL'), (1, 'MongoDB'), (1, 'Cassandra'), (1, 'HBase'), (1, 'Postgres'),\n",
    "    (2, 'Python'), (2, 'scikit-learn'), (2, 'scipy'), (2, 'numpy'), (2, 'statsmodels'), (2, 'pandas'),\n",
    "    (3, 'R'), (3, 'Python'), (3, 'statistics'), (3, 'regression'), (3, 'probability'),\n",
    "    (4, 'machine learning'), (4, 'regression'), (4, 'decision trees'), (4, 'libsvm'),\n",
    "    (5, 'Python'), (5, 'R'), (5, 'Java'), (5, 'C++'), (5, 'Haskell'), (5, 'programming languages'),\n",
    "    (6, 'statistics'), (6, 'probability'), (6, 'mathematics'), (6, 'theory'),\n",
    "    (7, 'machine learning'), (7, 'scikit-learn'), (7, 'Mahout'), (7, 'neural networks'),\n",
    "    (8, 'neural networks'), (8, 'deep learning'), (8, 'Big Data'), (8, 'artificial intelligence'),\n",
    "    (9, 'Hadoop'), (9, 'Java'), (9, 'MapReduce'), (9, 'Big Data'),\n",
    "]"
   ],
   "metadata": {
    "collapsed": false
   }
  },
  {
   "cell_type": "markdown",
   "source": [
    "It is easy to build a function that finds users with a specific interest."
   ],
   "metadata": {
    "collapsed": false
   }
  },
  {
   "cell_type": "code",
   "execution_count": null,
   "outputs": [],
   "source": [
    "def data_scientists_who_like(target_interest):\n",
    "    \"\"\"Find the user IDs of other data scientists who share `target_interest`\"\"\"\n",
    "    return [user_id for user_id, interest in interests if interest == target_interest]"
   ],
   "metadata": {
    "collapsed": false
   }
  },
  {
   "cell_type": "code",
   "execution_count": null,
   "outputs": [],
   "source": [
    "print(data_scientists_who_like('programming languages'))\n",
    "print(data_scientists_who_like('Python'))\n",
    "print(data_scientists_who_like('R'))"
   ],
   "metadata": {
    "collapsed": false
   }
  },
  {
   "cell_type": "markdown",
   "source": [
    "This code works but it is not especially efficient. It must search through each ID-interest pair to find like-minded data scientists. In this case, relatively small amount of users or searches, it works fine.\n",
    "\n",
    "To better scale, let's create two indices: one from interests to users..."
   ],
   "metadata": {
    "collapsed": false
   }
  },
  {
   "cell_type": "code",
   "execution_count": null,
   "outputs": [],
   "source": [
    "from collections import defaultdict\n",
    "\n",
    "# Keys are interests, values are lists of user IDs who share that interest\n",
    "user_ids_by_interest = defaultdict(list)\n",
    "for user_id_key, user_interest in interests:\n",
    "    user_ids_by_interest[user_interest].append(user_id_key)"
   ],
   "metadata": {
    "collapsed": false
   }
  },
  {
   "cell_type": "code",
   "execution_count": null,
   "outputs": [],
   "source": [
    "user_ids_by_interest"
   ],
   "metadata": {
    "collapsed": false
   }
  },
  {
   "cell_type": "code",
   "execution_count": null,
   "outputs": [],
   "source": [
    "user_ids_by_interest['probability']"
   ],
   "metadata": {
    "collapsed": false
   }
  },
  {
   "cell_type": "markdown",
   "source": [
    "...And create the reverse index, from user IDs to interests"
   ],
   "metadata": {
    "collapsed": false
   }
  },
  {
   "cell_type": "code",
   "execution_count": null,
   "outputs": [],
   "source": [
    "# Keys are user IDs. Values are lists of interests.\n",
    "interests_by_user_id = defaultdict(list)\n",
    "for user_id_key, user_interest in interests:\n",
    "    interests_by_user_id[user_id_key].append(user_interest)"
   ],
   "metadata": {
    "collapsed": false
   }
  },
  {
   "cell_type": "code",
   "execution_count": null,
   "outputs": [],
   "source": [
    "interests_by_user_id"
   ],
   "metadata": {
    "collapsed": false
   }
  },
  {
   "cell_type": "code",
   "execution_count": null,
   "outputs": [],
   "source": [
    "interests_by_user_id[7]"
   ],
   "metadata": {
    "collapsed": false
   }
  },
  {
   "cell_type": "markdown",
   "source": [
    "Now it's easy to find who has the most interests in common with a specific user:\n",
    "\n",
    "- Iterate over the users interests\n",
    "- For each interest, iterate over the other users with that interest\n",
    "- Keep a count of how many times we see each other user"
   ],
   "metadata": {
    "collapsed": false
   }
  },
  {
   "cell_type": "code",
   "execution_count": null,
   "outputs": [],
   "source": [
    "def most_common_interests_with(user):\n",
    "    \"\"\"Find the counts other users that shared interests with `user`\"\"\"\n",
    "    return Counter(\n",
    "        interested_user_id\n",
    "        for interest in interests_by_user_id[user['id']]  # Loop over all my interests\n",
    "        for interested_user_id in user_ids_by_interest[interest]  # Calculate everyone interested in my interest\n",
    "        if interested_user_id != user['id']  # But skip my own interests\n",
    "    )"
   ],
   "metadata": {
    "collapsed": false
   }
  },
  {
   "cell_type": "code",
   "execution_count": null,
   "outputs": [],
   "source": [
    "# Remember, a `dict` from user ID to shared interest count pairs\n",
    "most_common_interests_with(users[5])"
   ],
   "metadata": {
    "collapsed": false
   }
  },
  {
   "cell_type": "markdown",
   "source": [
    "## Salaries and Experience"
   ],
   "metadata": {
    "collapsed": false
   }
  },
  {
   "cell_type": "markdown",
   "source": [
    "Anonymized dataset with salaries and tenure as a data scientist (years)."
   ],
   "metadata": {
    "collapsed": false
   }
  },
  {
   "cell_type": "code",
   "execution_count": null,
   "outputs": [],
   "source": [
    "salaries_and_tenure = [\n",
    "    (83000, 8.7),\n",
    "    (88000, 8.1),\n",
    "    (48000, 0.7),\n",
    "    (76000, 6),\n",
    "    (69000, 6.5),\n",
    "    (76000, 7.5),\n",
    "    (60000, 2.5),\n",
    "    (83000, 10),\n",
    "    (48000, 1.9),\n",
    "    (63000, 4.2),\n",
    "]"
   ],
   "metadata": {
    "collapsed": false
   }
  },
  {
   "cell_type": "markdown",
   "source": [
    "From plotting the data, it seems clear that salary increases with tenure, but how might we turn this into a \"fun fact\"?\n",
    "\n",
    "Let's try looking at the average salary for each tenure."
   ],
   "metadata": {
    "collapsed": false
   }
  },
  {
   "cell_type": "code",
   "execution_count": null,
   "outputs": [],
   "source": [
    "# Keys are years, values are lists of the salaries for each tenure\n",
    "salary_by_tenure = defaultdict(list)\n",
    "\n",
    "for salary_value, tenure_years in salaries_and_tenure:\n",
    "    salary_by_tenure[tenure_years].append(salary_value)"
   ],
   "metadata": {
    "collapsed": false
   }
  },
  {
   "cell_type": "code",
   "execution_count": null,
   "outputs": [],
   "source": [
    "# Keys are years, values are **average** salary for that tenure\n",
    "average_salary_by_tenure = {\n",
    "    tenure: sum(salaries) / len(salaries)\n",
    "    for tenure, salaries in salary_by_tenure.items()\n",
    "}"
   ],
   "metadata": {
    "collapsed": false
   }
  },
  {
   "cell_type": "code",
   "execution_count": null,
   "outputs": [],
   "source": [
    "average_salary_by_tenure"
   ],
   "metadata": {
    "collapsed": false
   }
  },
  {
   "cell_type": "markdown",
   "source": [
    "Turns out that this calculation is not very interesting because no users have the **same** tenure. We are actually just reporting the anonymized user's salaries.\n",
    "\n",
    "Let's try bucketing the tenures."
   ],
   "metadata": {
    "collapsed": false
   }
  },
  {
   "cell_type": "code",
   "execution_count": null,
   "outputs": [],
   "source": [
    "# Define a function to bucket tenures\n",
    "def tenure_bucket(tenure):\n",
    "    if tenure < 2:\n",
    "        return 'less than 2'\n",
    "    elif tenure <= 5:\n",
    "        return 'between 2 and 5'\n",
    "    else:\n",
    "        return 'more than 5'"
   ],
   "metadata": {
    "collapsed": false
   }
  },
  {
   "cell_type": "code",
   "execution_count": null,
   "outputs": [],
   "source": [
    "# The keys of our new `defaultdict` are tenure buckets; the values are yearly salaries\n",
    "salary_by_tenure_bucket = defaultdict(list)\n",
    "\n",
    "for yearly_salary, tenure_years in salaries_and_tenure:\n",
    "    bucket = tenure_bucket(tenure_years)\n",
    "    salary_by_tenure_bucket[bucket].append(yearly_salary)\n",
    "\n",
    "salary_by_tenure_bucket"
   ],
   "metadata": {
    "collapsed": false
   }
  },
  {
   "cell_type": "code",
   "execution_count": null,
   "outputs": [],
   "source": [
    "# We then average the salaries in each tenure bucket\n",
    "average_salary_by_tenure_bucket = toolz.valmap(\n",
    "    lambda salaries: sum(salaries) / len(salaries),\n",
    "    salary_by_tenure_bucket\n",
    ")\n",
    "average_salary_by_tenure_bucket"
   ],
   "metadata": {
    "collapsed": false
   }
  },
  {
   "cell_type": "code",
   "execution_count": null,
   "outputs": [],
   "source": [
    "100 * (average_salary_by_tenure_bucket['more than 5'] - average_salary_by_tenure_bucket['less than 2']) / average_salary_by_tenure_bucket['less than 2']"
   ],
   "metadata": {
    "collapsed": false
   }
  },
  {
   "cell_type": "markdown",
   "source": [
    "This calculation gives us our \"sound bite\": \"Data scientists with more than 5 years experience make 65% more money than data scientists with little or no experience.\""
   ],
   "metadata": {
    "collapsed": false
   }
  },
  {
   "cell_type": "markdown",
   "source": [
    "## Paid Accounts"
   ],
   "metadata": {
    "collapsed": false
   }
  },
  {
   "cell_type": "markdown",
   "source": [
    "The VP of Revenue wants to better understand which users pay for accounts and which do not."
   ],
   "metadata": {
    "collapsed": false
   }
  },
  {
   "cell_type": "code",
   "execution_count": null,
   "outputs": [],
   "source": [
    "# Here a list of years experience and paid/unpaid. You notice that there appears to be a relationship between years experience and paid/unpaid.\n",
    "paid_accounts = [\n",
    "    (0.7, 'paid'),\n",
    "    (1.9, 'unpaid'),\n",
    "    (2.5, 'paid'),\n",
    "    (4.2, 'unpaid'),\n",
    "    (6.0, 'unpaid'),\n",
    "    (6.5, 'unpaid'),\n",
    "    (7.5, 'unpaid'),\n",
    "    (8.1, 'unpaid'),\n",
    "    (8.7, 'paid'),\n",
    "    (10.0, 'paid'),\n",
    "]"
   ],
   "metadata": {
    "collapsed": false
   }
  },
  {
   "cell_type": "markdown",
   "source": [
    "Users with few years and many years experience tend to pay; other uses do not.\n",
    "\n",
    "How might we predict paid/unpaid based on years experience?"
   ],
   "metadata": {
    "collapsed": false
   }
  },
  {
   "cell_type": "code",
   "execution_count": null,
   "outputs": [],
   "source": [
    "# Here is our \"model\"\n",
    "def predict_paid_or_unpaid(years_experience):\n",
    "    if years_experience < 3.0:\n",
    "        return 'paid'\n",
    "    elif 3.0 <= years_experience < 8.5:\n",
    "        return 'unpaid'\n",
    "    else:\n",
    "        return 'paid'\n",
    "\n",
    "# Of course, we totally eyeballed the ranges."
   ],
   "metadata": {
    "collapsed": false
   }
  },
  {
   "cell_type": "code",
   "execution_count": null,
   "outputs": [],
   "source": [
    "sum([paid_up[1] == predict_paid_or_unpaid(paid_up[0]) for paid_up in paid_accounts]) / len(paid_accounts)"
   ],
   "metadata": {
    "collapsed": false
   }
  },
  {
   "cell_type": "code",
   "execution_count": null,
   "outputs": [],
   "source": [
    "list(toolz.map(lambda paid_up: paid_up[1] == predict_paid_or_unpaid(paid_up[0]), paid_accounts))"
   ],
   "metadata": {
    "collapsed": false
   }
  },
  {
   "cell_type": "code",
   "execution_count": null,
   "outputs": [],
   "source": [],
   "metadata": {
    "collapsed": false
   }
  }
 ],
 "metadata": {
  "kernelspec": {
   "display_name": "Python 3",
   "language": "python",
   "name": "python3"
  },
  "language_info": {
   "codemirror_mode": {
    "name": "ipython",
    "version": 2
   },
   "file_extension": ".py",
   "mimetype": "text/x-python",
   "name": "python",
   "nbconvert_exporter": "python",
   "pygments_lexer": "ipython2",
   "version": "2.7.6"
  }
 },
 "nbformat": 4,
 "nbformat_minor": 0
}
