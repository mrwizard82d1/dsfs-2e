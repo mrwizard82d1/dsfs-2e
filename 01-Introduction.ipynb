{
 "cells": [
  {
   "cell_type": "markdown",
   "source": [
    "# Chapter 01 - Introduction\n",
    "## Finding Key Connectors"
   ],
   "metadata": {
    "collapsed": false
   }
  },
  {
   "cell_type": "markdown",
   "source": [
    "User list for entire DataSciencester network"
   ],
   "metadata": {
    "collapsed": false
   }
  },
  {
   "cell_type": "code",
   "execution_count": null,
   "outputs": [],
   "source": [
    "users = [\n",
    "    { 'id': 0, 'name': 'Hero' },\n",
    "    { 'id': 1, 'name': 'Dunn' },\n",
    "    { 'id': 2, 'name': 'Sue' },\n",
    "    { 'id': 3, 'name': 'Chi' },\n",
    "    { 'id': 4, 'name': 'Thor' },\n",
    "    { 'id': 5, 'name': 'Clive' },\n",
    "    { 'id': 6, 'name': 'Hicks' },\n",
    "    { 'id': 7, 'name': 'Devin' },\n",
    "    { 'id': 8, 'name': 'Kate' },\n",
    "    { 'id': 9, 'name': 'Klein' },\n",
    "]"
   ],
   "metadata": {
    "collapsed": false
   }
  },
  {
   "cell_type": "markdown",
   "source": [
    "The raw friendship list is a list of tuples containing a pair of IDs"
   ],
   "metadata": {
    "collapsed": false
   }
  },
  {
   "cell_type": "code",
   "execution_count": null,
   "outputs": [],
   "source": [
    "friendship_pairs = [\n",
    "    (0, 1), (0, 2),\n",
    "    (1, 2), (1, 3),\n",
    "    (2, 3),\n",
    "    (3, 4),\n",
    "    (4, 5),\n",
    "    (5, 6), (5, 7),\n",
    "    (6, 8),\n",
    "    (7, 8),\n",
    "    (8, 9),\n",
    "]"
   ],
   "metadata": {
    "collapsed": false
   }
  },
  {
   "cell_type": "markdown",
   "source": [
    "This representation is not the easiest with which to work.\n",
    "\n",
    "Let's create a `dict` mapping user IDs to a list of friend user IDs"
   ],
   "metadata": {
    "collapsed": false
   }
  },
  {
   "cell_type": "code",
   "execution_count": null,
   "outputs": [],
   "source": [
    "# Initialize the `dict` with an empty list for each user ID\n",
    "friendships = { user['id']: [] for user in users }"
   ],
   "metadata": {
    "collapsed": false
   }
  },
  {
   "cell_type": "code",
   "execution_count": null,
   "outputs": [],
   "source": [
    "# Loop over the `friendship_pairs` to append friends to the `friendships` values\n",
    "for i, j in friendship_pairs:\n",
    "    friendships[i].append(j)  # Add j as a friend of user i\n",
    "    friendships[j].append(i)  # Friendships are symmetrical"
   ],
   "metadata": {
    "collapsed": false
   }
  },
  {
   "cell_type": "code",
   "execution_count": null,
   "outputs": [],
   "source": [
    "friendships"
   ],
   "metadata": {
    "collapsed": false
   }
  },
  {
   "cell_type": "markdown",
   "source": [
    "We can now easily ask questions of our `friendships` graph like, \"What's the average number of connections?\""
   ],
   "metadata": {
    "collapsed": false
   }
  },
  {
   "cell_type": "code",
   "execution_count": null,
   "outputs": [],
   "source": [
    "# We find the _total_ number of connections by summing up the lengths of all the friends lists\n",
    "def friend_count(user):\n",
    "    \"\"\"How many friends does _user_ have?\"\"\"\n",
    "    user_id = user['id']\n",
    "    friends_ids = friendships[user_id]\n",
    "    return len(friends_ids)\n",
    "\n",
    "total_connections = sum(friend_count(user) for user in users)\n",
    "total_connections"
   ],
   "metadata": {
    "collapsed": false
   }
  },
  {
   "cell_type": "code",
   "execution_count": null,
   "outputs": [],
   "source": [
    "# Calculate the average friendship length by dividing the `total_connections` by the number of users\n",
    "user_count = len(users)\n",
    "avg_connections = total_connections / user_count\n",
    "avg_connections"
   ],
   "metadata": {
    "collapsed": false
   }
  },
  {
   "cell_type": "markdown",
   "source": [
    "Find the most connected people; that is, the people who have the largest number of friends."
   ],
   "metadata": {
    "collapsed": false
   }
  },
  {
   "cell_type": "code",
   "execution_count": null,
   "outputs": [],
   "source": [
    "# Create a list of pairs between user IDs and the number of friends\n",
    "friend_counts_by_id = [(user['id'], friend_count(user)) for user in users]\n",
    "friend_counts_by_id"
   ],
   "metadata": {
    "collapsed": false
   }
  },
  {
   "cell_type": "code",
   "execution_count": null,
   "outputs": [],
   "source": [
    "# And sort the list by the number of friends\n",
    "friend_counts_by_id.sort(key=lambda friend_count_by_id: friend_count_by_id[1], reverse=True)\n",
    "friend_counts_by_id"
   ],
   "metadata": {
    "collapsed": false
   }
  },
  {
   "cell_type": "markdown",
   "source": [
    "We have identified people who are _central_ to the network. Specifically, we have calculated the network metric _degree centrality_."
   ],
   "metadata": {
    "collapsed": false
   }
  },
  {
   "cell_type": "code",
   "execution_count": null,
   "outputs": [],
   "source": [],
   "metadata": {
    "collapsed": false
   }
  }
 ],
 "metadata": {
  "kernelspec": {
   "display_name": "Python 3",
   "language": "python",
   "name": "python3"
  },
  "language_info": {
   "codemirror_mode": {
    "name": "ipython",
    "version": 2
   },
   "file_extension": ".py",
   "mimetype": "text/x-python",
   "name": "python",
   "nbconvert_exporter": "python",
   "pygments_lexer": "ipython2",
   "version": "2.7.6"
  }
 },
 "nbformat": 4,
 "nbformat_minor": 0
}
